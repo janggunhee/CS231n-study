{
 "cells": [
  {
   "cell_type": "markdown",
   "metadata": {},
   "source": [
    "# E20. 시계열 데이터에서 이상치 찾아보기 \n",
    "\n",
    "## Step 1. 데이터 구하기\n",
    "\n",
    "\n",
    "주식데이터 :  미국 나스탁 데이터 \n",
    "- [링크](https://finance.yahoo.com/quote/NQ=F?p=NQ=F)에서 historical data를 눌러보세요.\n",
    "\n",
    "- Time Period:Sep 18, 2000 - Oct 26, 2020Show:Historical \n",
    "- PricesFrequency:Daily"
   ]
  },
  {
   "cell_type": "code",
   "execution_count": 32,
   "metadata": {},
   "outputs": [],
   "source": [
    "import requests\n",
    "import os\n",
    "import copy\n",
    "import pandas as pd\n",
    "import numpy as np\n",
    "from scipy.stats import norm\n",
    "import matplotlib.pyplot as plt\n",
    "from matplotlib.pylab import rcParams\n",
    "%matplotlib inline\n",
    "\n",
    "from statsmodels.stats.weightstats import ztest\n",
    "from statsmodels.tsa.seasonal import seasonal_decompose\n",
    "\n",
    "from sklearn.preprocessing import StandardScaler\n",
    "from sklearn.cluster import KMeans\n",
    "from sklearn.cluster import DBSCAN"
   ]
  },
  {
   "cell_type": "markdown",
   "metadata": {},
   "source": [
    "### Data 불러오기 "
   ]
  },
  {
   "cell_type": "code",
   "execution_count": 2,
   "metadata": {},
   "outputs": [],
   "source": [
    "csv_file = os.getenv('HOME')+'/aiffel/anomaly_detection/nasdaq/NQ=F.csv'"
   ]
  },
  {
   "cell_type": "code",
   "execution_count": 3,
   "metadata": {
    "scrolled": true
   },
   "outputs": [
    {
     "data": {
      "text/html": [
       "<div>\n",
       "<style scoped>\n",
       "    .dataframe tbody tr th:only-of-type {\n",
       "        vertical-align: middle;\n",
       "    }\n",
       "\n",
       "    .dataframe tbody tr th {\n",
       "        vertical-align: top;\n",
       "    }\n",
       "\n",
       "    .dataframe thead th {\n",
       "        text-align: right;\n",
       "    }\n",
       "</style>\n",
       "<table border=\"1\" class=\"dataframe\">\n",
       "  <thead>\n",
       "    <tr style=\"text-align: right;\">\n",
       "      <th></th>\n",
       "      <th>Date</th>\n",
       "      <th>Open</th>\n",
       "      <th>High</th>\n",
       "      <th>Low</th>\n",
       "      <th>Close</th>\n",
       "      <th>Adj Close</th>\n",
       "      <th>Volume</th>\n",
       "    </tr>\n",
       "  </thead>\n",
       "  <tbody>\n",
       "    <tr>\n",
       "      <th>0</th>\n",
       "      <td>2000-09-18</td>\n",
       "      <td>3721.0</td>\n",
       "      <td>3785.5</td>\n",
       "      <td>3602.0</td>\n",
       "      <td>3653.5</td>\n",
       "      <td>3653.5</td>\n",
       "      <td>72994.0</td>\n",
       "    </tr>\n",
       "    <tr>\n",
       "      <th>1</th>\n",
       "      <td>2000-09-19</td>\n",
       "      <td>3658.5</td>\n",
       "      <td>3817.0</td>\n",
       "      <td>3656.0</td>\n",
       "      <td>3804.0</td>\n",
       "      <td>3804.0</td>\n",
       "      <td>70029.0</td>\n",
       "    </tr>\n",
       "  </tbody>\n",
       "</table>\n",
       "</div>"
      ],
      "text/plain": [
       "         Date    Open    High     Low   Close  Adj Close   Volume\n",
       "0  2000-09-18  3721.0  3785.5  3602.0  3653.5     3653.5  72994.0\n",
       "1  2000-09-19  3658.5  3817.0  3656.0  3804.0     3804.0  70029.0"
      ]
     },
     "execution_count": 3,
     "metadata": {},
     "output_type": "execute_result"
    }
   ],
   "source": [
    "df = pd.read_csv(csv_file)\n",
    "df.head(2)"
   ]
  },
  {
   "cell_type": "markdown",
   "metadata": {},
   "source": [
    "- Date = 거래날 (string)\n",
    "- Open = 시가 \n",
    "- Hign = 고가\n",
    "- Low = 저가 \n",
    "- Close = 종가 \n",
    "- Adj Close = 보정종가 \n",
    "- Volume = 거래량 "
   ]
  },
  {
   "cell_type": "code",
   "execution_count": 4,
   "metadata": {},
   "outputs": [
    {
     "data": {
      "text/plain": [
       "Date            0\n",
       "Open         1073\n",
       "High         1073\n",
       "Low          1073\n",
       "Close        1073\n",
       "Adj Close    1073\n",
       "Volume       1073\n",
       "dtype: int64"
      ]
     },
     "execution_count": 4,
     "metadata": {},
     "output_type": "execute_result"
    }
   ],
   "source": [
    "# 날짜데이터를 Datetime 형식으로 바꿔줍니다.\n",
    "df.loc[:,'Date'] = pd.to_datetime(df.Date)\n",
    "\n",
    "# 데이터의 정합성을 확인합니다\n",
    "df.isna().sum()"
   ]
  },
  {
   "cell_type": "markdown",
   "metadata": {},
   "source": [
    "- 결측치가 각 11개씩 존재하고 있습니다. \n",
    "### 결측치 처리 "
   ]
  },
  {
   "cell_type": "code",
   "execution_count": 5,
   "metadata": {},
   "outputs": [
    {
     "name": "stdout",
     "output_type": "stream",
     "text": [
      "삭제 전 데이터 길이(일자수): 6171\n",
      "삭제 후 데이터 길이(일자수): 5098\n"
     ]
    },
    {
     "data": {
      "text/plain": [
       "Date         0\n",
       "Open         0\n",
       "High         0\n",
       "Low          0\n",
       "Close        0\n",
       "Adj Close    0\n",
       "Volume       0\n",
       "dtype: int64"
      ]
     },
     "execution_count": 5,
     "metadata": {},
     "output_type": "execute_result"
    }
   ],
   "source": [
    "print(\"삭제 전 데이터 길이(일자수):\",len(df))\n",
    "df = df.dropna(axis=0).reset_index(drop=True)\n",
    "\n",
    "print(\"삭제 후 데이터 길이(일자수):\",len(df))\n",
    "df.isna().sum()"
   ]
  },
  {
   "cell_type": "markdown",
   "metadata": {},
   "source": [
    "## Step 2. 기본 통계분석으로 이상치 찾기\n",
    "\n",
    "- 데이터의 분포를 그려보기\n",
    "- z-test로 정규분포를 만족하는지 확인하기\n",
    "- (정규분포를 만족하지 않으면) Time series decompose 수행후 residual로 분석하기"
   ]
  },
  {
   "cell_type": "code",
   "execution_count": 6,
   "metadata": {
    "scrolled": true
   },
   "outputs": [
    {
     "data": {
      "image/png": "[encoded data removed]",
      "text/plain": [
       "<Figure size 864x360 with 1 Axes>"
      ]
     },
     "metadata": {
      "needs_background": "light"
     },
     "output_type": "display_data"
    }
   ],
   "source": [
    "plt.rcParams[\"figure.figsize\"] = (12,5)\n",
    "# Line Graph by matplotlib with wide-form DataFrame\n",
    "\n",
    "plt.plot(df.Date, df.Close, marker='s', color='r')\n",
    "plt.plot(df.Date, df.High, marker='o', color='g')\n",
    "plt.plot(df.Date, df.Low, marker='*', color='b')\n",
    "plt.plot(df.Date, df.Open, marker='+', color='y')\n",
    "\n",
    "plt.title('Nasdaq ', fontsize=20) \n",
    "plt.ylabel('Stock', fontsize=14)\n",
    "plt.xlabel('Date', fontsize=14)\n",
    "plt.legend(['Close', 'High', 'Low', 'Open'], fontsize=12, loc='best')\n",
    "\n",
    "plt.show()"
   ]
  },
  {
   "cell_type": "markdown",
   "metadata": {},
   "source": [
    "- 이상치Anomailies = 극단치Outlier + 특이치Novelites\n",
    "- 극단치는 제거해야 모형에 좋습니다.\n",
    "- 특이치는 남겨둬야 모형에 좋습니다.\n",
    "\n",
    "#### 정규분포 적용\n",
    "- 숨어 있는 이상치를 처리하기 위해 정규분포를 적용할 수 있다. \n",
    "- 어떤 데이터가 평균과 표준편차로 주어지는 정규분포를 따른다면 아주 높은 확률로 그 데이터는 어떤 신뢰구간 내에 있을 거라고 가정할 수 있으며, 그 **신뢰구간** 밖의 데이터가 나올 확률은 매우 희박해진다면 신뢰구간 밖에 있는 데이터는 이상치라고 생각할 수 있다.\n"
   ]
  },
  {
   "cell_type": "markdown",
   "metadata": {},
   "source": [
    "#### 정규분포"
   ]
  },
  {
   "cell_type": "code",
   "execution_count": 7,
   "metadata": {},
   "outputs": [
    {
     "data": {
      "image/png": "[encoded data removed]",
      "text/plain": [
       "<Figure size 648x432 with 1 Axes>"
      ]
     },
     "metadata": {
      "needs_background": "light"
     },
     "output_type": "display_data"
    }
   ],
   "source": [
    "x = np.arange(-6, 6, 0.001)\n",
    "y = norm.pdf(x,0,1) \n",
    "# 평균이 0이고, 표준편차가 1인 정규분포를 그립니다.\n",
    "\n",
    "# build the plot\n",
    "fig, ax = plt.subplots(figsize=(9,6))\n",
    "ax.fill_between(x,y,0, alpha=0.3, color='b')\n",
    "ax.set_xlim([-4,4])\n",
    "ax.set_title('normal distribution')\n",
    "plt.show()"
   ]
  },
  {
   "cell_type": "markdown",
   "metadata": {},
   "source": [
    "\n",
    "- 이러한 정규분포를 따르는지 확인하는 방법 : z-test\n",
    "- 시계열 데이터 중에서 정규분포에 가까운 데이터를 뽑아내는 방법 : Time series decomposition"
   ]
  },
  {
   "cell_type": "markdown",
   "metadata": {},
   "source": [
    "### 정규분포 확인 "
   ]
  },
  {
   "cell_type": "code",
   "execution_count": 8,
   "metadata": {
    "scrolled": true
   },
   "outputs": [
    {
     "data": {
      "image/png": "[encoded data removed]",
      "text/plain": [
       "<Figure size 648x432 with 1 Axes>"
      ]
     },
     "metadata": {
      "needs_background": "light"
     },
     "output_type": "display_data"
    }
   ],
   "source": [
    "# 그래프로 정규분포 확인, 주식의 종가 \n",
    "fig, ax = plt.subplots(figsize=(9,6))\n",
    "_ = plt.hist(df.Close, 100, density=True, alpha=0.75)"
   ]
  },
  {
   "cell_type": "markdown",
   "metadata": {},
   "source": [
    "- 정규분포와 거리가 멀어 보인다. "
   ]
  },
  {
   "cell_type": "markdown",
   "metadata": {},
   "source": [
    "### Z - Test로 확인"
   ]
  },
  {
   "cell_type": "code",
   "execution_count": 9,
   "metadata": {},
   "outputs": [
    {
     "name": "stdout",
     "output_type": "stream",
     "text": [
      "0.0\n"
     ]
    }
   ],
   "source": [
    "# from statsmodels.stats.weightstats import ztest\n",
    "\n",
    "_, p = ztest(df.Close)\n",
    "print(p)"
   ]
  },
  {
   "cell_type": "markdown",
   "metadata": {},
   "source": [
    "- p가 0.05 이하로 나왔으면 normal distribution과 거리가 멀다는 뜻이에요.\n",
    "- 이 데이터는 0.0이 나왔네요. \n",
    "- 이런 데이터로는 '정규분포'를 가정한 통계적 추정이 어렵다."
   ]
  },
  {
   "cell_type": "markdown",
   "metadata": {},
   "source": [
    "### Time series decompose로 확인\n",
    "\n",
    "> 시계열 데이터 중에서 정규분포에 가까운 데이터를 뽑아내는 방법\n",
    "\n",
    "- Time series decomposition을 통해 시계열 데이터는 3가지 성분으로 분리되고, 그중 Residual 데이터는 Stationary에 가까운 형태를 가진다.\n",
    "\n",
    "- 그리고 Stationary에 가까운 데이터는 정규분포를 따른다! \n",
    "\n",
    "- 우리는 이 Residual 데이터를 사용해서 신뢰구간을 구할 수 있습니다.\n",
    "- [Time series decomposition](https://rfriend.tistory.com/510)확인"
   ]
  },
  {
   "cell_type": "markdown",
   "metadata": {},
   "source": [
    "#### Time series decomposition\n",
    "\n",
    "- 'additive' 방법과 'multiplicative' 방법이 있어요. 본 예제에서는 additive 방법을 적용해볼께요.\n",
    "\n",
    "- 간편하게 statsmodel 라이브러리를 이용해서 코스피 종가 데이터를 분석해봅니다."
   ]
  },
  {
   "cell_type": "code",
   "execution_count": 10,
   "metadata": {
    "scrolled": true
   },
   "outputs": [
    {
     "data": {
      "image/png": "[encoded data removed]",
      "text/plain": [
       "<Figure size 864x360 with 4 Axes>"
      ]
     },
     "metadata": {
      "needs_background": "light"
     },
     "output_type": "display_data"
    }
   ],
   "source": [
    "# from statsmodels.tsa.seasonal import seasonal_decompose\n",
    "result = seasonal_decompose(df.Close, model='additive', two_sided=True, \n",
    "                            period=50, extrapolate_trend='freq') # 계절적 성분 50일로 가정\n",
    "result.plot()\n",
    "plt.show()"
   ]
  },
  {
   "cell_type": "code",
   "execution_count": 11,
   "metadata": {
    "scrolled": true
   },
   "outputs": [
    {
     "data": {
      "image/png": "[encoded data removed]",
      "text/plain": [
       "<Figure size 1080x648 with 4 Axes>"
      ]
     },
     "metadata": {
      "needs_background": "light"
     },
     "output_type": "display_data"
    }
   ],
   "source": [
    "#그래프가 너무 작아서 안보인다면\n",
    "\n",
    "fig, axes = plt.subplots(ncols=1, nrows=4, sharex=True, figsize=(15,9))\n",
    "result.observed.plot(ax=axes[0], legend=False)\n",
    "axes[0].set_ylabel('Observed')\n",
    "result.trend.plot(ax=axes[1], legend=False)\n",
    "axes[1].set_ylabel('Trend')\n",
    "result.seasonal.plot(ax=axes[2], legend=False)\n",
    "axes[2].set_ylabel('Seasonal')\n",
    "result.resid.plot(ax=axes[3], legend=False)\n",
    "axes[3].set_ylabel('Residual')\n",
    "plt.show()"
   ]
  },
  {
   "cell_type": "code",
   "execution_count": 12,
   "metadata": {
    "scrolled": true
   },
   "outputs": [
    {
     "data": {
      "text/plain": [
       "<matplotlib.axes._subplots.AxesSubplot at 0x7f3f081f8e10>"
      ]
     },
     "execution_count": 12,
     "metadata": {},
     "output_type": "execute_result"
    },
    {
     "data": {
      "image/png": "[encoded data removed]",
      "text/plain": [
       "<Figure size 864x360 with 1 Axes>"
      ]
     },
     "metadata": {
      "needs_background": "light"
     },
     "output_type": "display_data"
    }
   ],
   "source": [
    "# seasonal 성분은 너무 빼곡하게 보이네요. 다시 확인해보겠습니다.\n",
    "result.seasonal[:130].plot()"
   ]
  },
  {
   "cell_type": "markdown",
   "metadata": {},
   "source": [
    "- -20 에서 20 사이를 주기적으로 반복하는게 보이네요."
   ]
  },
  {
   "cell_type": "markdown",
   "metadata": {},
   "source": [
    "###  Time series decompose 결과에서 무엇을 알수 있나요?\n",
    "\n",
    "------\n",
    "\n",
    "- 정규분포에서 표준편차를 이용한 이상치 인식을 사용하고 싶었어요\n",
    "- 추세Trend 와 계절적 성분Seasonal을 뽑아내고 남은 잔차Residual를 볼까요?\n",
    "- 잔차는 평균 0을 기준으로 분포하고 있어요!\n",
    "- 잔차가 큰 날은 뭔가 일반적인 추세나 계절성에서 벗어난 날로 해석되겠죠?\n"
   ]
  },
  {
   "cell_type": "markdown",
   "metadata": {},
   "source": [
    "###  Residual의 분포"
   ]
  },
  {
   "cell_type": "code",
   "execution_count": 13,
   "metadata": {
    "scrolled": true
   },
   "outputs": [
    {
     "data": {
      "image/png": "[encoded data removed]",
      "text/plain": [
       "<Figure size 648x432 with 1 Axes>"
      ]
     },
     "metadata": {
      "needs_background": "light"
     },
     "output_type": "display_data"
    }
   ],
   "source": [
    "fig, ax = plt.subplots(figsize=(9,6))\n",
    "_ = plt.hist(result.resid, 100, density=True, alpha=0.75)"
   ]
  },
  {
   "cell_type": "markdown",
   "metadata": {},
   "source": [
    "- 그래프는 정규분포를 따른다고 할 수 있는데 첨도가 뾰족!\n",
    "- 이상치의 분포 범위가 -1500 에서 1000으로  넓어 보인다. "
   ]
  },
  {
   "cell_type": "markdown",
   "metadata": {},
   "source": [
    "###  z-test로 residual 확인"
   ]
  },
  {
   "cell_type": "code",
   "execution_count": 14,
   "metadata": {},
   "outputs": [
    {
     "name": "stdout",
     "output_type": "stream",
     "text": [
      "-0.8390076883668396 0.40146499522520807\n"
     ]
    }
   ],
   "source": [
    "r = result.resid.values\n",
    "st, p = ztest(r)\n",
    "print(st,p)"
   ]
  },
  {
   "cell_type": "markdown",
   "metadata": {},
   "source": [
    "- p-value가 0.04\n",
    "- 이 정도면 애매한 것 같은데 데이터 분포가 정규분포를 따르고 있다 가정???\n",
    "\n"
   ]
  },
  {
   "cell_type": "markdown",
   "metadata": {},
   "source": [
    "### 3σ 기준 신뢰구간으로 이상치 찾기\n",
    "\n",
    "------\n",
    "신뢰구간 방법으로 이상치를 탐색하려고 해요. 평균을 기준으로 플러스/마이너스 3σ를 벗어나는 데이터를 찾아봅시다."
   ]
  },
  {
   "cell_type": "code",
   "execution_count": 15,
   "metadata": {},
   "outputs": [
    {
     "name": "stdout",
     "output_type": "stream",
     "text": [
      "평균: -1.2913972051412874 표준편차: 109.89901935436704\n",
      "이상치 갯수: 92\n"
     ]
    }
   ],
   "source": [
    "# 평균과 표준편차 출력\n",
    "mu, std = result.resid.mean(), result.resid.std()\n",
    "print(\"평균:\", mu, \"표준편차:\", std)\n",
    "\n",
    "# 3-sigma(표준편차)를 기준으로 이상치 판단\n",
    "print(\"이상치 갯수:\", len(result.resid[(result.resid>mu+3*std)|(result.resid<mu-3*std)]))"
   ]
  },
  {
   "cell_type": "markdown",
   "metadata": {},
   "source": [
    "#### +-3σ 기준 / 이상치 범위 날짜 확인"
   ]
  },
  {
   "cell_type": "code",
   "execution_count": 16,
   "metadata": {},
   "outputs": [
    {
     "data": {
      "text/plain": [
       "66     2000-12-20\n",
       "73     2001-01-02\n",
       "91     2001-01-29\n",
       "92     2001-01-30\n",
       "136    2001-04-03\n",
       "          ...    \n",
       "5083   2020-10-05\n",
       "5084   2020-10-06\n",
       "5085   2020-10-07\n",
       "5096   2020-10-22\n",
       "5097   2020-10-23\n",
       "Name: Date, Length: 92, dtype: datetime64[ns]"
      ]
     },
     "execution_count": 16,
     "metadata": {},
     "output_type": "execute_result"
    }
   ],
   "source": [
    "df.Date[result.resid[\n",
    "    (result.resid>mu+3*std)|(result.resid<mu-3*std)].index]"
   ]
  },
  {
   "cell_type": "markdown",
   "metadata": {},
   "source": [
    "### 한 단계 더 나아가기\n",
    "\n",
    "- 왜 이상치로 분류됐는지 해석해보기\n",
    "- 탐지해낸 이상치(Anomalies)는 극단치(Outlier) 인지, 특이치(Novelties)인지 생각해보기\n",
    "- 이상치들을 제거/교정해야할지 내버려둘지 고민하기"
   ]
  },
  {
   "cell_type": "markdown",
   "metadata": {},
   "source": [
    "---\n",
    "### 해석\n",
    "- 2000 - 2001년 4월 :: 나스닥 닷컴 버블이 터지면서 붕괴 그 후 주가는 1년이 안되서 반토막 났고, 닷컴 기업들의 파산이 속출 \n",
    " \n",
    "- 2020년 코로나 이후 기세 등등하던 나스닥 대표 IT 기술주들이 주가폭락을 이끌었다. \n",
    "\n",
    "- 이런 납득가능한 지표들의 이상치(Anomalies)는 특이치(Novelties)로 구분해 제거하지 않고 분석에 활용한다. "
   ]
  },
  {
   "cell_type": "markdown",
   "metadata": {},
   "source": [
    "## Step 3. Unsupervised Clustering 으로 이상치 찾기\n",
    "\n",
    "- k-means로 분석하기\n",
    "- DBSCAN으로 분석하기"
   ]
  },
  {
   "cell_type": "markdown",
   "metadata": {},
   "source": [
    "### 데이터 전처리\n",
    "\n",
    "------\n",
    "\n",
    "이번에는 Open, High, Low, Close, Volume 5가지 데이터를 모두 사용\n",
    "\n",
    "앞서 살펴본 통계방식과 동일하게 Trend/Seasonal 성분을 제거해야 '정말 튀는' 데이터를 찾아낼 수 있어요. 같은 방법으로 **5가지 데이터 모두** time series decompose로 전처리를 해줄께요."
   ]
  },
  {
   "cell_type": "code",
   "execution_count": 17,
   "metadata": {},
   "outputs": [
    {
     "data": {
      "text/html": [
       "<div>\n",
       "<style scoped>\n",
       "    .dataframe tbody tr th:only-of-type {\n",
       "        vertical-align: middle;\n",
       "    }\n",
       "\n",
       "    .dataframe tbody tr th {\n",
       "        vertical-align: top;\n",
       "    }\n",
       "\n",
       "    .dataframe thead th {\n",
       "        text-align: right;\n",
       "    }\n",
       "</style>\n",
       "<table border=\"1\" class=\"dataframe\">\n",
       "  <thead>\n",
       "    <tr style=\"text-align: right;\">\n",
       "      <th></th>\n",
       "      <th>Open</th>\n",
       "      <th>High</th>\n",
       "      <th>Low</th>\n",
       "      <th>Close</th>\n",
       "      <th>Volume</th>\n",
       "    </tr>\n",
       "  </thead>\n",
       "  <tbody>\n",
       "    <tr>\n",
       "      <th>count</th>\n",
       "      <td>5098.000000</td>\n",
       "      <td>5098.000000</td>\n",
       "      <td>5098.000000</td>\n",
       "      <td>5098.000000</td>\n",
       "      <td>5098.000000</td>\n",
       "    </tr>\n",
       "    <tr>\n",
       "      <th>mean</th>\n",
       "      <td>3330.724999</td>\n",
       "      <td>3362.220146</td>\n",
       "      <td>3298.532406</td>\n",
       "      <td>3332.609090</td>\n",
       "      <td>288057.188854</td>\n",
       "    </tr>\n",
       "    <tr>\n",
       "      <th>std</th>\n",
       "      <td>2400.892883</td>\n",
       "      <td>2422.863050</td>\n",
       "      <td>2379.665832</td>\n",
       "      <td>2404.825139</td>\n",
       "      <td>109834.091507</td>\n",
       "    </tr>\n",
       "    <tr>\n",
       "      <th>min</th>\n",
       "      <td>914.415000</td>\n",
       "      <td>934.695000</td>\n",
       "      <td>895.770000</td>\n",
       "      <td>915.335000</td>\n",
       "      <td>64880.520000</td>\n",
       "    </tr>\n",
       "    <tr>\n",
       "      <th>25%</th>\n",
       "      <td>1584.407500</td>\n",
       "      <td>1597.671250</td>\n",
       "      <td>1571.153750</td>\n",
       "      <td>1584.352001</td>\n",
       "      <td>220586.700000</td>\n",
       "    </tr>\n",
       "    <tr>\n",
       "      <th>50%</th>\n",
       "      <td>2264.797500</td>\n",
       "      <td>2292.105000</td>\n",
       "      <td>2232.207500</td>\n",
       "      <td>2265.174199</td>\n",
       "      <td>268932.110000</td>\n",
       "    </tr>\n",
       "    <tr>\n",
       "      <th>75%</th>\n",
       "      <td>4434.168125</td>\n",
       "      <td>4466.316875</td>\n",
       "      <td>4401.132500</td>\n",
       "      <td>4435.347500</td>\n",
       "      <td>319674.830000</td>\n",
       "    </tr>\n",
       "    <tr>\n",
       "      <th>max</th>\n",
       "      <td>12039.860297</td>\n",
       "      <td>12201.437499</td>\n",
       "      <td>11870.369861</td>\n",
       "      <td>12047.090432</td>\n",
       "      <td>776809.340000</td>\n",
       "    </tr>\n",
       "  </tbody>\n",
       "</table>\n",
       "</div>"
      ],
      "text/plain": [
       "               Open          High           Low         Close         Volume\n",
       "count   5098.000000   5098.000000   5098.000000   5098.000000    5098.000000\n",
       "mean    3330.724999   3362.220146   3298.532406   3332.609090  288057.188854\n",
       "std     2400.892883   2422.863050   2379.665832   2404.825139  109834.091507\n",
       "min      914.415000    934.695000    895.770000    915.335000   64880.520000\n",
       "25%     1584.407500   1597.671250   1571.153750   1584.352001  220586.700000\n",
       "50%     2264.797500   2292.105000   2232.207500   2265.174199  268932.110000\n",
       "75%     4434.168125   4466.316875   4401.132500   4435.347500  319674.830000\n",
       "max    12039.860297  12201.437499  11870.369861  12047.090432  776809.340000"
      ]
     },
     "execution_count": 17,
     "metadata": {},
     "output_type": "execute_result"
    }
   ],
   "source": [
    "# 데이터 전처리\n",
    "def my_decompose(df, features, freq=50):\n",
    "    trend = pd.DataFrame()\n",
    "    seasonal = pd.DataFrame()\n",
    "    resid = pd.DataFrame()\n",
    "    \n",
    "    # 사용할 feature 마다 decompose 를 수행합니다.\n",
    "    for f in features:\n",
    "        result = seasonal_decompose(df[f], \n",
    "                                    model='additive', period=freq, extrapolate_trend=freq)\n",
    "        trend[f] = result.trend.values\n",
    "        seasonal[f] = result.seasonal.values\n",
    "        resid[f] = result.resid.values\n",
    "        \n",
    "    return trend, seasonal, resid\n",
    "\n",
    "# 각 변수별 트렌드/계절적/잔차\n",
    "tdf, sdf, rdf = my_decompose(df, features=['Open','High','Low','Close','Volume'])\n",
    "tdf.describe()"
   ]
  },
  {
   "cell_type": "code",
   "execution_count": 18,
   "metadata": {},
   "outputs": [
    {
     "data": {
      "text/html": [
       "<div>\n",
       "<style scoped>\n",
       "    .dataframe tbody tr th:only-of-type {\n",
       "        vertical-align: middle;\n",
       "    }\n",
       "\n",
       "    .dataframe tbody tr th {\n",
       "        vertical-align: top;\n",
       "    }\n",
       "\n",
       "    .dataframe thead th {\n",
       "        text-align: right;\n",
       "    }\n",
       "</style>\n",
       "<table border=\"1\" class=\"dataframe\">\n",
       "  <thead>\n",
       "    <tr style=\"text-align: right;\">\n",
       "      <th></th>\n",
       "      <th>Open</th>\n",
       "      <th>High</th>\n",
       "      <th>Low</th>\n",
       "      <th>Close</th>\n",
       "      <th>Volume</th>\n",
       "    </tr>\n",
       "  </thead>\n",
       "  <tbody>\n",
       "    <tr>\n",
       "      <th>count</th>\n",
       "      <td>5098.000000</td>\n",
       "      <td>5098.000000</td>\n",
       "      <td>5098.000000</td>\n",
       "      <td>5098.000000</td>\n",
       "      <td>5098.000000</td>\n",
       "    </tr>\n",
       "    <tr>\n",
       "      <th>mean</th>\n",
       "      <td>-1.361168</td>\n",
       "      <td>-1.421971</td>\n",
       "      <td>-1.241082</td>\n",
       "      <td>-1.314223</td>\n",
       "      <td>155.136515</td>\n",
       "    </tr>\n",
       "    <tr>\n",
       "      <th>std</th>\n",
       "      <td>112.249407</td>\n",
       "      <td>102.051145</td>\n",
       "      <td>116.463672</td>\n",
       "      <td>110.054996</td>\n",
       "      <td>110706.241180</td>\n",
       "    </tr>\n",
       "    <tr>\n",
       "      <th>min</th>\n",
       "      <td>-1280.580676</td>\n",
       "      <td>-1494.706438</td>\n",
       "      <td>-1226.976539</td>\n",
       "      <td>-1390.196689</td>\n",
       "      <td>-602731.340129</td>\n",
       "    </tr>\n",
       "    <tr>\n",
       "      <th>25%</th>\n",
       "      <td>-38.117788</td>\n",
       "      <td>-35.393102</td>\n",
       "      <td>-38.318769</td>\n",
       "      <td>-37.788724</td>\n",
       "      <td>-53311.671523</td>\n",
       "    </tr>\n",
       "    <tr>\n",
       "      <th>50%</th>\n",
       "      <td>3.476876</td>\n",
       "      <td>3.331959</td>\n",
       "      <td>4.089242</td>\n",
       "      <td>2.923191</td>\n",
       "      <td>-488.997470</td>\n",
       "    </tr>\n",
       "    <tr>\n",
       "      <th>75%</th>\n",
       "      <td>40.164011</td>\n",
       "      <td>37.638459</td>\n",
       "      <td>41.675332</td>\n",
       "      <td>40.863314</td>\n",
       "      <td>51480.694345</td>\n",
       "    </tr>\n",
       "    <tr>\n",
       "      <th>max</th>\n",
       "      <td>996.954616</td>\n",
       "      <td>933.609579</td>\n",
       "      <td>944.823580</td>\n",
       "      <td>996.320780</td>\n",
       "      <td>810713.135421</td>\n",
       "    </tr>\n",
       "  </tbody>\n",
       "</table>\n",
       "</div>"
      ],
      "text/plain": [
       "              Open         High          Low        Close         Volume\n",
       "count  5098.000000  5098.000000  5098.000000  5098.000000    5098.000000\n",
       "mean     -1.361168    -1.421971    -1.241082    -1.314223     155.136515\n",
       "std     112.249407   102.051145   116.463672   110.054996  110706.241180\n",
       "min   -1280.580676 -1494.706438 -1226.976539 -1390.196689 -602731.340129\n",
       "25%     -38.117788   -35.393102   -38.318769   -37.788724  -53311.671523\n",
       "50%       3.476876     3.331959     4.089242     2.923191    -488.997470\n",
       "75%      40.164011    37.638459    41.675332    40.863314   51480.694345\n",
       "max     996.954616   933.609579   944.823580   996.320780  810713.135421"
      ]
     },
     "execution_count": 18,
     "metadata": {},
     "output_type": "execute_result"
    }
   ],
   "source": [
    "rdf.describe()"
   ]
  },
  {
   "cell_type": "markdown",
   "metadata": {},
   "source": [
    "### 각 변수 표준정규화 "
   ]
  },
  {
   "cell_type": "code",
   "execution_count": 19,
   "metadata": {},
   "outputs": [
    {
     "name": "stdout",
     "output_type": "stream",
     "text": [
      "[ -1.36116811  -1.42197139  -1.24108161  -1.31422283 155.13651478]\n"
     ]
    },
    {
     "data": {
      "text/plain": [
       "array([[ 0.94892246,  0.84646493,  0.81728626,  0.60184276,  0.08322602],\n",
       "       [ 0.49026957,  1.28420778,  1.38842808,  2.09551792,  0.10454779],\n",
       "       [ 1.90750707,  2.01838985,  2.0481367 ,  2.7378712 , -0.08888583],\n",
       "       ...,\n",
       "       [-2.9355638 , -3.75950684, -2.18973446, -2.93558305,  0.44805172],\n",
       "       [-3.02900188, -4.45234664, -3.01260131, -3.46542972,  0.39484453],\n",
       "       [-3.32615554, -5.03188414, -2.82731937, -3.56760069,  0.48127544]])"
      ]
     },
     "execution_count": 19,
     "metadata": {},
     "output_type": "execute_result"
    }
   ],
   "source": [
    "# 표준정규화\n",
    "# from sklearn.preprocessing import StandardScaler\n",
    "\n",
    "scaler = StandardScaler()\n",
    "scaler.fit(rdf)\n",
    "print(scaler.mean_)\n",
    "norm_rdf = scaler.transform(rdf)\n",
    "norm_rdf"
   ]
  },
  {
   "cell_type": "markdown",
   "metadata": {},
   "source": [
    "### k-means 로 이상치 탐색하기\n",
    "\n",
    "------\n",
    "\n",
    "우리는 k-means을 이용해서 정상 데이터그룹과 이상치 데이터그룹을 나눠볼꺼에요.\n",
    "\n",
    "그룹은 2개로 지정"
   ]
  },
  {
   "cell_type": "code",
   "execution_count": 20,
   "metadata": {},
   "outputs": [
    {
     "name": "stdout",
     "output_type": "stream",
     "text": [
      "[1 1 1 ... 0 0 0]\n"
     ]
    }
   ],
   "source": [
    "# from sklearn.cluster import KMeans\n",
    "\n",
    "kmeans = KMeans(n_clusters=2, random_state=0).fit(norm_rdf)\n",
    "print(kmeans.labels_) # 분류된 라벨은 이렇게 kemans.labels_ 로 확인합니다.\""
   ]
  },
  {
   "cell_type": "code",
   "execution_count": 21,
   "metadata": {},
   "outputs": [
    {
     "name": "stdout",
     "output_type": "stream",
     "text": [
      "[0 1]\n",
      "[1099 3999]\n"
     ]
    }
   ],
   "source": [
    "# 라벨은 몇번 그룹인지 뜻합니다. \n",
    "# return_counts=True 를 해서 몇개의 샘플이 몇번 그룹에 할당되었는지 확인해요\n",
    "lbl, cnt = np.unique(kmeans.labels_,return_counts=True) \n",
    "print(lbl) # 0번 그룹, 1번 그룹으로 나뉘어졌네요\n",
    "print(cnt)"
   ]
  },
  {
   "cell_type": "markdown",
   "metadata": {},
   "source": [
    "- 어느 한 쪽을 이상치고 정상치로 분류하기엔 서로 양이 너무 많다. "
   ]
  },
  {
   "cell_type": "code",
   "execution_count": 22,
   "metadata": {},
   "outputs": [
    {
     "data": {
      "text/plain": [
       "['group:0-count:717',\n",
       " 'group:1-count:26',\n",
       " 'group:2-count:319',\n",
       " 'group:3-count:39',\n",
       " 'group:4-count:492',\n",
       " 'group:5-count:7',\n",
       " 'group:6-count:171',\n",
       " 'group:7-count:13',\n",
       " 'group:8-count:409',\n",
       " 'group:9-count:226',\n",
       " 'group:10-count:839',\n",
       " 'group:11-count:46',\n",
       " 'group:12-count:225',\n",
       " 'group:13-count:13',\n",
       " 'group:14-count:187',\n",
       " 'group:15-count:8',\n",
       " 'group:16-count:103',\n",
       " 'group:17-count:3',\n",
       " 'group:18-count:63',\n",
       " 'group:19-count:483',\n",
       " 'group:20-count:1',\n",
       " 'group:21-count:556',\n",
       " 'group:22-count:115',\n",
       " 'group:23-count:7',\n",
       " 'group:24-count:30']"
      ]
     },
     "execution_count": 22,
     "metadata": {},
     "output_type": "execute_result"
    }
   ],
   "source": [
    "# 그룹을 25개로 지정 \n",
    "kmeans = KMeans(n_clusters=25, random_state=0).fit(norm_rdf)\n",
    "lbl, cnt = np.unique(kmeans.labels_,return_counts=True,)\n",
    "['group:{}-count:{}'.format(group, count) for group, count in zip(lbl, cnt)]"
   ]
  },
  {
   "cell_type": "markdown",
   "metadata": {},
   "source": [
    "- Group 5, 15, 17, 20, 23 이 count가 10개 이내로 분류된 특이그룹으로 나눌 수 있다. "
   ]
  },
  {
   "cell_type": "markdown",
   "metadata": {},
   "source": [
    "**다음 활동을 통해 이상치를 분석해 보겠습니다.**\n",
    "\n",
    "1. 어떤 날들이 분류된건지\n",
    "2. 각 그룹은 어떤 특징을 갖고 있는지\n",
    "3. 왜 이상치로 분류된걸까?"
   ]
  },
  {
   "cell_type": "markdown",
   "metadata": {},
   "source": [
    "✔️1. 어떤 날들이 분류된건지 (원본 Nasdaq 데이터에서 탐색)"
   ]
  },
  {
   "cell_type": "code",
   "execution_count": 23,
   "metadata": {},
   "outputs": [
    {
     "data": {
      "text/html": [
       "<div>\n",
       "<style scoped>\n",
       "    .dataframe tbody tr th:only-of-type {\n",
       "        vertical-align: middle;\n",
       "    }\n",
       "\n",
       "    .dataframe tbody tr th {\n",
       "        vertical-align: top;\n",
       "    }\n",
       "\n",
       "    .dataframe thead th {\n",
       "        text-align: right;\n",
       "    }\n",
       "</style>\n",
       "<table border=\"1\" class=\"dataframe\">\n",
       "  <thead>\n",
       "    <tr style=\"text-align: right;\">\n",
       "      <th></th>\n",
       "      <th>Date</th>\n",
       "      <th>Open</th>\n",
       "      <th>High</th>\n",
       "      <th>Low</th>\n",
       "      <th>Close</th>\n",
       "      <th>Adj Close</th>\n",
       "      <th>Volume</th>\n",
       "    </tr>\n",
       "  </thead>\n",
       "  <tbody>\n",
       "    <tr>\n",
       "      <th>4591</th>\n",
       "      <td>2018-12-26</td>\n",
       "      <td>5902.000000</td>\n",
       "      <td>6310.000000</td>\n",
       "      <td>5820.500000</td>\n",
       "      <td>6285.500000</td>\n",
       "      <td>6285.500000</td>\n",
       "      <td>642440.0</td>\n",
       "    </tr>\n",
       "    <tr>\n",
       "      <th>4699</th>\n",
       "      <td>2019-06-03</td>\n",
       "      <td>7110.000000</td>\n",
       "      <td>7132.500000</td>\n",
       "      <td>6941.250000</td>\n",
       "      <td>6993.750000</td>\n",
       "      <td>6993.750000</td>\n",
       "      <td>771723.0</td>\n",
       "    </tr>\n",
       "    <tr>\n",
       "      <th>4900</th>\n",
       "      <td>2020-02-23</td>\n",
       "      <td>9355.250000</td>\n",
       "      <td>9365.000000</td>\n",
       "      <td>9289.000000</td>\n",
       "      <td>9315.000000</td>\n",
       "      <td>9315.000000</td>\n",
       "      <td>995989.0</td>\n",
       "    </tr>\n",
       "    <tr>\n",
       "      <th>4901</th>\n",
       "      <td>2020-02-24</td>\n",
       "      <td>9355.250000</td>\n",
       "      <td>9365.000000</td>\n",
       "      <td>9041.250000</td>\n",
       "      <td>9091.000000</td>\n",
       "      <td>9091.000000</td>\n",
       "      <td>1171879.0</td>\n",
       "    </tr>\n",
       "    <tr>\n",
       "      <th>4916</th>\n",
       "      <td>2020-03-12</td>\n",
       "      <td>7998.750000</td>\n",
       "      <td>8108.000000</td>\n",
       "      <td>7128.500000</td>\n",
       "      <td>7215.250000</td>\n",
       "      <td>7215.250000</td>\n",
       "      <td>876291.0</td>\n",
       "    </tr>\n",
       "    <tr>\n",
       "      <th>4917</th>\n",
       "      <td>2020-03-13</td>\n",
       "      <td>7100.000000</td>\n",
       "      <td>7978.000000</td>\n",
       "      <td>6942.500000</td>\n",
       "      <td>7915.750000</td>\n",
       "      <td>7915.750000</td>\n",
       "      <td>584274.0</td>\n",
       "    </tr>\n",
       "    <tr>\n",
       "      <th>4918</th>\n",
       "      <td>2020-03-15</td>\n",
       "      <td>7100.000000</td>\n",
       "      <td>7978.000000</td>\n",
       "      <td>6942.500000</td>\n",
       "      <td>7215.250000</td>\n",
       "      <td>7215.250000</td>\n",
       "      <td>578813.0</td>\n",
       "    </tr>\n",
       "    <tr>\n",
       "      <th>4919</th>\n",
       "      <td>2020-03-16</td>\n",
       "      <td>7903.000000</td>\n",
       "      <td>7905.250000</td>\n",
       "      <td>6927.000000</td>\n",
       "      <td>7057.500000</td>\n",
       "      <td>7057.500000</td>\n",
       "      <td>307368.0</td>\n",
       "    </tr>\n",
       "    <tr>\n",
       "      <th>4920</th>\n",
       "      <td>2020-03-17</td>\n",
       "      <td>7053.000000</td>\n",
       "      <td>7552.250000</td>\n",
       "      <td>6948.750000</td>\n",
       "      <td>7405.250000</td>\n",
       "      <td>7405.250000</td>\n",
       "      <td>317501.0</td>\n",
       "    </tr>\n",
       "    <tr>\n",
       "      <th>4921</th>\n",
       "      <td>2020-03-18</td>\n",
       "      <td>7386.000000</td>\n",
       "      <td>7392.250000</td>\n",
       "      <td>6830.000000</td>\n",
       "      <td>7225.250000</td>\n",
       "      <td>7225.250000</td>\n",
       "      <td>156283.0</td>\n",
       "    </tr>\n",
       "    <tr>\n",
       "      <th>4922</th>\n",
       "      <td>2020-03-19</td>\n",
       "      <td>7251.750000</td>\n",
       "      <td>7521.500000</td>\n",
       "      <td>6894.250000</td>\n",
       "      <td>7293.500000</td>\n",
       "      <td>7293.500000</td>\n",
       "      <td>115519.0</td>\n",
       "    </tr>\n",
       "    <tr>\n",
       "      <th>4923</th>\n",
       "      <td>2020-03-20</td>\n",
       "      <td>7195.000000</td>\n",
       "      <td>7649.000000</td>\n",
       "      <td>7153.500000</td>\n",
       "      <td>7417.979980</td>\n",
       "      <td>7417.979980</td>\n",
       "      <td>562616.0</td>\n",
       "    </tr>\n",
       "    <tr>\n",
       "      <th>4924</th>\n",
       "      <td>2020-03-22</td>\n",
       "      <td>6798.000000</td>\n",
       "      <td>6798.000000</td>\n",
       "      <td>6628.750000</td>\n",
       "      <td>6688.750000</td>\n",
       "      <td>6688.750000</td>\n",
       "      <td>321230.0</td>\n",
       "    </tr>\n",
       "    <tr>\n",
       "      <th>4925</th>\n",
       "      <td>2020-03-23</td>\n",
       "      <td>6798.000000</td>\n",
       "      <td>7316.250000</td>\n",
       "      <td>6628.750000</td>\n",
       "      <td>6984.500000</td>\n",
       "      <td>6984.500000</td>\n",
       "      <td>633237.0</td>\n",
       "    </tr>\n",
       "    <tr>\n",
       "      <th>4926</th>\n",
       "      <td>2020-03-24</td>\n",
       "      <td>7005.750000</td>\n",
       "      <td>7572.250000</td>\n",
       "      <td>7005.750000</td>\n",
       "      <td>7554.750000</td>\n",
       "      <td>7554.750000</td>\n",
       "      <td>556553.0</td>\n",
       "    </tr>\n",
       "    <tr>\n",
       "      <th>4930</th>\n",
       "      <td>2020-03-29</td>\n",
       "      <td>7395.750000</td>\n",
       "      <td>7507.250000</td>\n",
       "      <td>7367.250000</td>\n",
       "      <td>7489.250000</td>\n",
       "      <td>7489.250000</td>\n",
       "      <td>1256384.0</td>\n",
       "    </tr>\n",
       "    <tr>\n",
       "      <th>4945</th>\n",
       "      <td>2020-04-17</td>\n",
       "      <td>8909.750000</td>\n",
       "      <td>8966.750000</td>\n",
       "      <td>8689.500000</td>\n",
       "      <td>8809.000000</td>\n",
       "      <td>8809.000000</td>\n",
       "      <td>509555.0</td>\n",
       "    </tr>\n",
       "    <tr>\n",
       "      <th>5016</th>\n",
       "      <td>2020-07-12</td>\n",
       "      <td>10848.250000</td>\n",
       "      <td>10909.500000</td>\n",
       "      <td>10847.750000</td>\n",
       "      <td>10886.750000</td>\n",
       "      <td>10886.750000</td>\n",
       "      <td>884254.0</td>\n",
       "    </tr>\n",
       "    <tr>\n",
       "      <th>5055</th>\n",
       "      <td>2020-08-26</td>\n",
       "      <td>11739.500000</td>\n",
       "      <td>12001.500000</td>\n",
       "      <td>11726.799805</td>\n",
       "      <td>11991.200195</td>\n",
       "      <td>11991.200195</td>\n",
       "      <td>578801.0</td>\n",
       "    </tr>\n",
       "    <tr>\n",
       "      <th>5056</th>\n",
       "      <td>2020-08-27</td>\n",
       "      <td>11984.500000</td>\n",
       "      <td>12046.000000</td>\n",
       "      <td>11834.799805</td>\n",
       "      <td>11952.799805</td>\n",
       "      <td>11952.799805</td>\n",
       "      <td>709346.0</td>\n",
       "    </tr>\n",
       "    <tr>\n",
       "      <th>5062</th>\n",
       "      <td>2020-09-03</td>\n",
       "      <td>12408.500000</td>\n",
       "      <td>12438.799805</td>\n",
       "      <td>11658.500000</td>\n",
       "      <td>11800.500000</td>\n",
       "      <td>11800.500000</td>\n",
       "      <td>931583.0</td>\n",
       "    </tr>\n",
       "    <tr>\n",
       "      <th>5073</th>\n",
       "      <td>2020-09-21</td>\n",
       "      <td>10920.000000</td>\n",
       "      <td>11009.799805</td>\n",
       "      <td>10656.500000</td>\n",
       "      <td>10989.000000</td>\n",
       "      <td>10989.000000</td>\n",
       "      <td>727984.0</td>\n",
       "    </tr>\n",
       "    <tr>\n",
       "      <th>5074</th>\n",
       "      <td>2020-09-22</td>\n",
       "      <td>10966.200195</td>\n",
       "      <td>11191.000000</td>\n",
       "      <td>10897.500000</td>\n",
       "      <td>11149.500000</td>\n",
       "      <td>11149.500000</td>\n",
       "      <td>573572.0</td>\n",
       "    </tr>\n",
       "    <tr>\n",
       "      <th>5075</th>\n",
       "      <td>2020-09-23</td>\n",
       "      <td>11160.500000</td>\n",
       "      <td>11222.000000</td>\n",
       "      <td>10786.000000</td>\n",
       "      <td>10829.000000</td>\n",
       "      <td>10829.000000</td>\n",
       "      <td>656111.0</td>\n",
       "    </tr>\n",
       "    <tr>\n",
       "      <th>5076</th>\n",
       "      <td>2020-09-24</td>\n",
       "      <td>10803.500000</td>\n",
       "      <td>11011.799805</td>\n",
       "      <td>10660.200195</td>\n",
       "      <td>10891.799805</td>\n",
       "      <td>10891.799805</td>\n",
       "      <td>791934.0</td>\n",
       "    </tr>\n",
       "    <tr>\n",
       "      <th>5077</th>\n",
       "      <td>2020-09-25</td>\n",
       "      <td>10914.200195</td>\n",
       "      <td>11166.200195</td>\n",
       "      <td>10813.799805</td>\n",
       "      <td>11136.500000</td>\n",
       "      <td>11136.500000</td>\n",
       "      <td>600725.0</td>\n",
       "    </tr>\n",
       "  </tbody>\n",
       "</table>\n",
       "</div>"
      ],
      "text/plain": [
       "           Date          Open          High           Low         Close  \\\n",
       "4591 2018-12-26   5902.000000   6310.000000   5820.500000   6285.500000   \n",
       "4699 2019-06-03   7110.000000   7132.500000   6941.250000   6993.750000   \n",
       "4900 2020-02-23   9355.250000   9365.000000   9289.000000   9315.000000   \n",
       "4901 2020-02-24   9355.250000   9365.000000   9041.250000   9091.000000   \n",
       "4916 2020-03-12   7998.750000   8108.000000   7128.500000   7215.250000   \n",
       "4917 2020-03-13   7100.000000   7978.000000   6942.500000   7915.750000   \n",
       "4918 2020-03-15   7100.000000   7978.000000   6942.500000   7215.250000   \n",
       "4919 2020-03-16   7903.000000   7905.250000   6927.000000   7057.500000   \n",
       "4920 2020-03-17   7053.000000   7552.250000   6948.750000   7405.250000   \n",
       "4921 2020-03-18   7386.000000   7392.250000   6830.000000   7225.250000   \n",
       "4922 2020-03-19   7251.750000   7521.500000   6894.250000   7293.500000   \n",
       "4923 2020-03-20   7195.000000   7649.000000   7153.500000   7417.979980   \n",
       "4924 2020-03-22   6798.000000   6798.000000   6628.750000   6688.750000   \n",
       "4925 2020-03-23   6798.000000   7316.250000   6628.750000   6984.500000   \n",
       "4926 2020-03-24   7005.750000   7572.250000   7005.750000   7554.750000   \n",
       "4930 2020-03-29   7395.750000   7507.250000   7367.250000   7489.250000   \n",
       "4945 2020-04-17   8909.750000   8966.750000   8689.500000   8809.000000   \n",
       "5016 2020-07-12  10848.250000  10909.500000  10847.750000  10886.750000   \n",
       "5055 2020-08-26  11739.500000  12001.500000  11726.799805  11991.200195   \n",
       "5056 2020-08-27  11984.500000  12046.000000  11834.799805  11952.799805   \n",
       "5062 2020-09-03  12408.500000  12438.799805  11658.500000  11800.500000   \n",
       "5073 2020-09-21  10920.000000  11009.799805  10656.500000  10989.000000   \n",
       "5074 2020-09-22  10966.200195  11191.000000  10897.500000  11149.500000   \n",
       "5075 2020-09-23  11160.500000  11222.000000  10786.000000  10829.000000   \n",
       "5076 2020-09-24  10803.500000  11011.799805  10660.200195  10891.799805   \n",
       "5077 2020-09-25  10914.200195  11166.200195  10813.799805  11136.500000   \n",
       "\n",
       "         Adj Close     Volume  \n",
       "4591   6285.500000   642440.0  \n",
       "4699   6993.750000   771723.0  \n",
       "4900   9315.000000   995989.0  \n",
       "4901   9091.000000  1171879.0  \n",
       "4916   7215.250000   876291.0  \n",
       "4917   7915.750000   584274.0  \n",
       "4918   7215.250000   578813.0  \n",
       "4919   7057.500000   307368.0  \n",
       "4920   7405.250000   317501.0  \n",
       "4921   7225.250000   156283.0  \n",
       "4922   7293.500000   115519.0  \n",
       "4923   7417.979980   562616.0  \n",
       "4924   6688.750000   321230.0  \n",
       "4925   6984.500000   633237.0  \n",
       "4926   7554.750000   556553.0  \n",
       "4930   7489.250000  1256384.0  \n",
       "4945   8809.000000   509555.0  \n",
       "5016  10886.750000   884254.0  \n",
       "5055  11991.200195   578801.0  \n",
       "5056  11952.799805   709346.0  \n",
       "5062  11800.500000   931583.0  \n",
       "5073  10989.000000   727984.0  \n",
       "5074  11149.500000   573572.0  \n",
       "5075  10829.000000   656111.0  \n",
       "5076  10891.799805   791934.0  \n",
       "5077  11136.500000   600725.0  "
      ]
     },
     "execution_count": 23,
     "metadata": {},
     "output_type": "execute_result"
    }
   ],
   "source": [
    "df[(kmeans.labels_==5)|(kmeans.labels_==15)|(kmeans.labels_==17)|(kmeans.labels_==20)|(kmeans.labels_==23)]"
   ]
  },
  {
   "cell_type": "markdown",
   "metadata": {},
   "source": [
    "- 2018년 12월 26일 미국 연방 셧다운 장기화 우려로 주가 폭락 \n",
    "- 2019년 5월 3일 아마존∙구글 반독점 조사 소식에 혼조 마감\n",
    "- 2020년 2월 23일 Covid-19로 지속적인 주가 폭락\n",
    "- 2020년 9월 IT 기술주 (Tsla를 비롯 코로나 이후 폭등한 기술주 이 시기에 폭락)"
   ]
  },
  {
   "cell_type": "markdown",
   "metadata": {},
   "source": [
    "#### ✔️2. 각 그룹은 어떤 특징을 갖고 있는지\n"
   ]
  },
  {
   "cell_type": "code",
   "execution_count": 24,
   "metadata": {
    "scrolled": true
   },
   "outputs": [
    {
     "data": {
      "text/html": [
       "<div>\n",
       "<style scoped>\n",
       "    .dataframe tbody tr th:only-of-type {\n",
       "        vertical-align: middle;\n",
       "    }\n",
       "\n",
       "    .dataframe tbody tr th {\n",
       "        vertical-align: top;\n",
       "    }\n",
       "\n",
       "    .dataframe thead th {\n",
       "        text-align: right;\n",
       "    }\n",
       "</style>\n",
       "<table border=\"1\" class=\"dataframe\">\n",
       "  <thead>\n",
       "    <tr style=\"text-align: right;\">\n",
       "      <th></th>\n",
       "      <th>Open</th>\n",
       "      <th>High</th>\n",
       "      <th>Low</th>\n",
       "      <th>Close</th>\n",
       "      <th>Volume</th>\n",
       "    </tr>\n",
       "  </thead>\n",
       "  <tbody>\n",
       "    <tr>\n",
       "      <th>0</th>\n",
       "      <td>0.093264</td>\n",
       "      <td>0.081487</td>\n",
       "      <td>0.146876</td>\n",
       "      <td>0.123863</td>\n",
       "      <td>-0.470362</td>\n",
       "    </tr>\n",
       "    <tr>\n",
       "      <th>1</th>\n",
       "      <td>-3.670336</td>\n",
       "      <td>-3.985607</td>\n",
       "      <td>-3.337972</td>\n",
       "      <td>-3.421617</td>\n",
       "      <td>-0.952478</td>\n",
       "    </tr>\n",
       "    <tr>\n",
       "      <th>2</th>\n",
       "      <td>-0.891175</td>\n",
       "      <td>-0.920017</td>\n",
       "      <td>-0.849864</td>\n",
       "      <td>-0.840812</td>\n",
       "      <td>0.247120</td>\n",
       "    </tr>\n",
       "    <tr>\n",
       "      <th>3</th>\n",
       "      <td>2.502405</td>\n",
       "      <td>2.523323</td>\n",
       "      <td>2.837353</td>\n",
       "      <td>2.700585</td>\n",
       "      <td>-1.484456</td>\n",
       "    </tr>\n",
       "    <tr>\n",
       "      <th>4</th>\n",
       "      <td>0.544449</td>\n",
       "      <td>0.577915</td>\n",
       "      <td>0.502089</td>\n",
       "      <td>0.515205</td>\n",
       "      <td>0.353908</td>\n",
       "    </tr>\n",
       "    <tr>\n",
       "      <th>5</th>\n",
       "      <td>-6.088198</td>\n",
       "      <td>-6.160325</td>\n",
       "      <td>-5.748483</td>\n",
       "      <td>-5.122640</td>\n",
       "      <td>1.988784</td>\n",
       "    </tr>\n",
       "    <tr>\n",
       "      <th>6</th>\n",
       "      <td>0.406749</td>\n",
       "      <td>0.396601</td>\n",
       "      <td>0.470679</td>\n",
       "      <td>0.451974</td>\n",
       "      <td>-2.049277</td>\n",
       "    </tr>\n",
       "    <tr>\n",
       "      <th>7</th>\n",
       "      <td>6.326890</td>\n",
       "      <td>6.428729</td>\n",
       "      <td>6.817048</td>\n",
       "      <td>6.788654</td>\n",
       "      <td>-1.070646</td>\n",
       "    </tr>\n",
       "    <tr>\n",
       "      <th>8</th>\n",
       "      <td>-0.326623</td>\n",
       "      <td>-0.339465</td>\n",
       "      <td>-0.383377</td>\n",
       "      <td>-0.373334</td>\n",
       "      <td>0.744510</td>\n",
       "    </tr>\n",
       "    <tr>\n",
       "      <th>9</th>\n",
       "      <td>1.104918</td>\n",
       "      <td>1.150308</td>\n",
       "      <td>1.188657</td>\n",
       "      <td>1.179825</td>\n",
       "      <td>-0.419988</td>\n",
       "    </tr>\n",
       "    <tr>\n",
       "      <th>10</th>\n",
       "      <td>0.059540</td>\n",
       "      <td>0.079424</td>\n",
       "      <td>0.043587</td>\n",
       "      <td>0.059035</td>\n",
       "      <td>0.330627</td>\n",
       "    </tr>\n",
       "    <tr>\n",
       "      <th>11</th>\n",
       "      <td>-2.725883</td>\n",
       "      <td>-2.946872</td>\n",
       "      <td>-2.863634</td>\n",
       "      <td>-2.851927</td>\n",
       "      <td>1.275038</td>\n",
       "    </tr>\n",
       "    <tr>\n",
       "      <th>12</th>\n",
       "      <td>-0.403030</td>\n",
       "      <td>-0.421367</td>\n",
       "      <td>-0.313575</td>\n",
       "      <td>-0.327898</td>\n",
       "      <td>-1.613654</td>\n",
       "    </tr>\n",
       "    <tr>\n",
       "      <th>13</th>\n",
       "      <td>2.009886</td>\n",
       "      <td>1.831365</td>\n",
       "      <td>0.629296</td>\n",
       "      <td>0.865822</td>\n",
       "      <td>4.550692</td>\n",
       "    </tr>\n",
       "    <tr>\n",
       "      <th>14</th>\n",
       "      <td>0.242284</td>\n",
       "      <td>0.233514</td>\n",
       "      <td>-0.057884</td>\n",
       "      <td>-0.061547</td>\n",
       "      <td>1.675944</td>\n",
       "    </tr>\n",
       "    <tr>\n",
       "      <th>15</th>\n",
       "      <td>-9.048333</td>\n",
       "      <td>-7.036237</td>\n",
       "      <td>-8.480760</td>\n",
       "      <td>-6.855492</td>\n",
       "      <td>-2.570922</td>\n",
       "    </tr>\n",
       "    <tr>\n",
       "      <th>16</th>\n",
       "      <td>-1.788707</td>\n",
       "      <td>-1.721938</td>\n",
       "      <td>-1.738608</td>\n",
       "      <td>-1.667234</td>\n",
       "      <td>0.116338</td>\n",
       "    </tr>\n",
       "    <tr>\n",
       "      <th>17</th>\n",
       "      <td>-3.005482</td>\n",
       "      <td>-4.531498</td>\n",
       "      <td>-7.544986</td>\n",
       "      <td>-8.986356</td>\n",
       "      <td>-0.602666</td>\n",
       "    </tr>\n",
       "    <tr>\n",
       "      <th>18</th>\n",
       "      <td>2.272233</td>\n",
       "      <td>2.359059</td>\n",
       "      <td>2.248912</td>\n",
       "      <td>2.217615</td>\n",
       "      <td>0.217889</td>\n",
       "    </tr>\n",
       "    <tr>\n",
       "      <th>19</th>\n",
       "      <td>0.479642</td>\n",
       "      <td>0.500787</td>\n",
       "      <td>0.567025</td>\n",
       "      <td>0.555388</td>\n",
       "      <td>-0.567642</td>\n",
       "    </tr>\n",
       "    <tr>\n",
       "      <th>20</th>\n",
       "      <td>-11.397343</td>\n",
       "      <td>-14.634142</td>\n",
       "      <td>-10.525649</td>\n",
       "      <td>-12.621133</td>\n",
       "      <td>-3.530584</td>\n",
       "    </tr>\n",
       "    <tr>\n",
       "      <th>21</th>\n",
       "      <td>-0.363953</td>\n",
       "      <td>-0.382760</td>\n",
       "      <td>-0.294729</td>\n",
       "      <td>-0.313166</td>\n",
       "      <td>-0.212991</td>\n",
       "    </tr>\n",
       "    <tr>\n",
       "      <th>22</th>\n",
       "      <td>-0.613721</td>\n",
       "      <td>-0.707093</td>\n",
       "      <td>-1.028790</td>\n",
       "      <td>-1.049612</td>\n",
       "      <td>1.977589</td>\n",
       "    </tr>\n",
       "    <tr>\n",
       "      <th>23</th>\n",
       "      <td>5.555220</td>\n",
       "      <td>5.431443</td>\n",
       "      <td>4.778957</td>\n",
       "      <td>4.597994</td>\n",
       "      <td>2.030846</td>\n",
       "    </tr>\n",
       "    <tr>\n",
       "      <th>24</th>\n",
       "      <td>-1.611607</td>\n",
       "      <td>-1.704593</td>\n",
       "      <td>-2.186987</td>\n",
       "      <td>-1.964712</td>\n",
       "      <td>3.807359</td>\n",
       "    </tr>\n",
       "  </tbody>\n",
       "</table>\n",
       "</div>"
      ],
      "text/plain": [
       "         Open       High        Low      Close    Volume\n",
       "0    0.093264   0.081487   0.146876   0.123863 -0.470362\n",
       "1   -3.670336  -3.985607  -3.337972  -3.421617 -0.952478\n",
       "2   -0.891175  -0.920017  -0.849864  -0.840812  0.247120\n",
       "3    2.502405   2.523323   2.837353   2.700585 -1.484456\n",
       "4    0.544449   0.577915   0.502089   0.515205  0.353908\n",
       "5   -6.088198  -6.160325  -5.748483  -5.122640  1.988784\n",
       "6    0.406749   0.396601   0.470679   0.451974 -2.049277\n",
       "7    6.326890   6.428729   6.817048   6.788654 -1.070646\n",
       "8   -0.326623  -0.339465  -0.383377  -0.373334  0.744510\n",
       "9    1.104918   1.150308   1.188657   1.179825 -0.419988\n",
       "10   0.059540   0.079424   0.043587   0.059035  0.330627\n",
       "11  -2.725883  -2.946872  -2.863634  -2.851927  1.275038\n",
       "12  -0.403030  -0.421367  -0.313575  -0.327898 -1.613654\n",
       "13   2.009886   1.831365   0.629296   0.865822  4.550692\n",
       "14   0.242284   0.233514  -0.057884  -0.061547  1.675944\n",
       "15  -9.048333  -7.036237  -8.480760  -6.855492 -2.570922\n",
       "16  -1.788707  -1.721938  -1.738608  -1.667234  0.116338\n",
       "17  -3.005482  -4.531498  -7.544986  -8.986356 -0.602666\n",
       "18   2.272233   2.359059   2.248912   2.217615  0.217889\n",
       "19   0.479642   0.500787   0.567025   0.555388 -0.567642\n",
       "20 -11.397343 -14.634142 -10.525649 -12.621133 -3.530584\n",
       "21  -0.363953  -0.382760  -0.294729  -0.313166 -0.212991\n",
       "22  -0.613721  -0.707093  -1.028790  -1.049612  1.977589\n",
       "23   5.555220   5.431443   4.778957   4.597994  2.030846\n",
       "24  -1.611607  -1.704593  -2.186987  -1.964712  3.807359"
      ]
     },
     "execution_count": 24,
     "metadata": {},
     "output_type": "execute_result"
    }
   ],
   "source": [
    "# 각 그룹의 중심부는 어떤 값을 가지고 있는지 확인해보겠습니다.\n",
    "pd.DataFrame(kmeans.cluster_centers_, columns=['Open','High','Low','Close','Volume'])"
   ]
  },
  {
   "cell_type": "markdown",
   "metadata": {},
   "source": [
    "\n",
    "- open , High가 유독 낮은 그룹 20"
   ]
  },
  {
   "cell_type": "code",
   "execution_count": 25,
   "metadata": {
    "scrolled": true
   },
   "outputs": [
    {
     "data": {
      "text/html": [
       "<div>\n",
       "<style scoped>\n",
       "    .dataframe tbody tr th:only-of-type {\n",
       "        vertical-align: middle;\n",
       "    }\n",
       "\n",
       "    .dataframe tbody tr th {\n",
       "        vertical-align: top;\n",
       "    }\n",
       "\n",
       "    .dataframe thead th {\n",
       "        text-align: right;\n",
       "    }\n",
       "</style>\n",
       "<table border=\"1\" class=\"dataframe\">\n",
       "  <thead>\n",
       "    <tr style=\"text-align: right;\">\n",
       "      <th></th>\n",
       "      <th>Open</th>\n",
       "      <th>High</th>\n",
       "      <th>Low</th>\n",
       "      <th>Close</th>\n",
       "      <th>Adj Close</th>\n",
       "      <th>Volume</th>\n",
       "    </tr>\n",
       "  </thead>\n",
       "  <tbody>\n",
       "    <tr>\n",
       "      <th>count</th>\n",
       "      <td>5098.000000</td>\n",
       "      <td>5098.000000</td>\n",
       "      <td>5098.000000</td>\n",
       "      <td>5098.000000</td>\n",
       "      <td>5098.000000</td>\n",
       "      <td>5.098000e+03</td>\n",
       "    </tr>\n",
       "    <tr>\n",
       "      <th>mean</th>\n",
       "      <td>3329.358747</td>\n",
       "      <td>3360.794284</td>\n",
       "      <td>3297.286767</td>\n",
       "      <td>3331.291122</td>\n",
       "      <td>3331.291122</td>\n",
       "      <td>2.882167e+05</td>\n",
       "    </tr>\n",
       "    <tr>\n",
       "      <th>std</th>\n",
       "      <td>2400.978546</td>\n",
       "      <td>2422.128357</td>\n",
       "      <td>2380.456260</td>\n",
       "      <td>2404.769584</td>\n",
       "      <td>2404.769584</td>\n",
       "      <td>1.595897e+05</td>\n",
       "    </tr>\n",
       "    <tr>\n",
       "      <th>min</th>\n",
       "      <td>810.000000</td>\n",
       "      <td>828.500000</td>\n",
       "      <td>797.500000</td>\n",
       "      <td>809.500000</td>\n",
       "      <td>809.500000</td>\n",
       "      <td>0.000000e+00</td>\n",
       "    </tr>\n",
       "    <tr>\n",
       "      <th>25%</th>\n",
       "      <td>1593.500000</td>\n",
       "      <td>1608.500000</td>\n",
       "      <td>1576.500000</td>\n",
       "      <td>1593.125000</td>\n",
       "      <td>1593.125000</td>\n",
       "      <td>1.907512e+05</td>\n",
       "    </tr>\n",
       "    <tr>\n",
       "      <th>50%</th>\n",
       "      <td>2232.000000</td>\n",
       "      <td>2259.875000</td>\n",
       "      <td>2211.750000</td>\n",
       "      <td>2232.875000</td>\n",
       "      <td>2232.875000</td>\n",
       "      <td>2.657315e+05</td>\n",
       "    </tr>\n",
       "    <tr>\n",
       "      <th>75%</th>\n",
       "      <td>4447.000000</td>\n",
       "      <td>4469.875000</td>\n",
       "      <td>4419.437500</td>\n",
       "      <td>4451.187500</td>\n",
       "      <td>4451.187500</td>\n",
       "      <td>3.562115e+05</td>\n",
       "    </tr>\n",
       "    <tr>\n",
       "      <th>max</th>\n",
       "      <td>12408.500000</td>\n",
       "      <td>12465.200195</td>\n",
       "      <td>12172.200195</td>\n",
       "      <td>12411.500000</td>\n",
       "      <td>12411.500000</td>\n",
       "      <td>1.580041e+06</td>\n",
       "    </tr>\n",
       "  </tbody>\n",
       "</table>\n",
       "</div>"
      ],
      "text/plain": [
       "               Open          High           Low         Close     Adj Close  \\\n",
       "count   5098.000000   5098.000000   5098.000000   5098.000000   5098.000000   \n",
       "mean    3329.358747   3360.794284   3297.286767   3331.291122   3331.291122   \n",
       "std     2400.978546   2422.128357   2380.456260   2404.769584   2404.769584   \n",
       "min      810.000000    828.500000    797.500000    809.500000    809.500000   \n",
       "25%     1593.500000   1608.500000   1576.500000   1593.125000   1593.125000   \n",
       "50%     2232.000000   2259.875000   2211.750000   2232.875000   2232.875000   \n",
       "75%     4447.000000   4469.875000   4419.437500   4451.187500   4451.187500   \n",
       "max    12408.500000  12465.200195  12172.200195  12411.500000  12411.500000   \n",
       "\n",
       "             Volume  \n",
       "count  5.098000e+03  \n",
       "mean   2.882167e+05  \n",
       "std    1.595897e+05  \n",
       "min    0.000000e+00  \n",
       "25%    1.907512e+05  \n",
       "50%    2.657315e+05  \n",
       "75%    3.562115e+05  \n",
       "max    1.580041e+06  "
      ]
     },
     "execution_count": 25,
     "metadata": {},
     "output_type": "execute_result"
    }
   ],
   "source": [
    "df.describe()"
   ]
  },
  {
   "cell_type": "markdown",
   "metadata": {},
   "source": [
    "-  나스닥 지수를 보면서 날짜 별로 비교가능 -  https://kr.investing.com/indices/nq-100-advanced-chart"
   ]
  },
  {
   "cell_type": "code",
   "execution_count": 26,
   "metadata": {},
   "outputs": [
    {
     "data": {
      "text/html": [
       "<div>\n",
       "<style scoped>\n",
       "    .dataframe tbody tr th:only-of-type {\n",
       "        vertical-align: middle;\n",
       "    }\n",
       "\n",
       "    .dataframe tbody tr th {\n",
       "        vertical-align: top;\n",
       "    }\n",
       "\n",
       "    .dataframe thead th {\n",
       "        text-align: right;\n",
       "    }\n",
       "</style>\n",
       "<table border=\"1\" class=\"dataframe\">\n",
       "  <thead>\n",
       "    <tr style=\"text-align: right;\">\n",
       "      <th></th>\n",
       "      <th>Date</th>\n",
       "      <th>Open</th>\n",
       "      <th>High</th>\n",
       "      <th>Low</th>\n",
       "      <th>Close</th>\n",
       "      <th>Adj Close</th>\n",
       "      <th>Volume</th>\n",
       "    </tr>\n",
       "  </thead>\n",
       "  <tbody>\n",
       "    <tr>\n",
       "      <th>4924</th>\n",
       "      <td>2020-03-22</td>\n",
       "      <td>6798.0</td>\n",
       "      <td>6798.0</td>\n",
       "      <td>6628.75</td>\n",
       "      <td>6688.75</td>\n",
       "      <td>6688.75</td>\n",
       "      <td>321230.0</td>\n",
       "    </tr>\n",
       "  </tbody>\n",
       "</table>\n",
       "</div>"
      ],
      "text/plain": [
       "           Date    Open    High      Low    Close  Adj Close    Volume\n",
       "4924 2020-03-22  6798.0  6798.0  6628.75  6688.75    6688.75  321230.0"
      ]
     },
     "execution_count": 26,
     "metadata": {},
     "output_type": "execute_result"
    }
   ],
   "source": [
    "df[(kmeans.labels_==20)]"
   ]
  },
  {
   "cell_type": "markdown",
   "metadata": {},
   "source": [
    "\n",
    "- 2020년 3월 22일은 미국 달력 기준으로 일요일이라 NASDAQ 장이 쉬는 날이라. \n",
    "- 이 그룹 데이터는 이상하다고 판단 할 수 있다. \n",
    "- 20그룹의 기간인 3월 22일을 기준으로 훑어본다. "
   ]
  },
  {
   "cell_type": "code",
   "execution_count": 27,
   "metadata": {
    "scrolled": true
   },
   "outputs": [
    {
     "data": {
      "text/html": [
       "<div>\n",
       "<style scoped>\n",
       "    .dataframe tbody tr th:only-of-type {\n",
       "        vertical-align: middle;\n",
       "    }\n",
       "\n",
       "    .dataframe tbody tr th {\n",
       "        vertical-align: top;\n",
       "    }\n",
       "\n",
       "    .dataframe thead th {\n",
       "        text-align: right;\n",
       "    }\n",
       "</style>\n",
       "<table border=\"1\" class=\"dataframe\">\n",
       "  <thead>\n",
       "    <tr style=\"text-align: right;\">\n",
       "      <th></th>\n",
       "      <th>Date</th>\n",
       "      <th>Open</th>\n",
       "      <th>High</th>\n",
       "      <th>Low</th>\n",
       "      <th>Close</th>\n",
       "      <th>Adj Close</th>\n",
       "      <th>Volume</th>\n",
       "    </tr>\n",
       "  </thead>\n",
       "  <tbody>\n",
       "    <tr>\n",
       "      <th>4920</th>\n",
       "      <td>2020-03-17</td>\n",
       "      <td>7053.00</td>\n",
       "      <td>7552.25</td>\n",
       "      <td>6948.75</td>\n",
       "      <td>7405.25000</td>\n",
       "      <td>7405.25000</td>\n",
       "      <td>317501.0</td>\n",
       "    </tr>\n",
       "    <tr>\n",
       "      <th>4921</th>\n",
       "      <td>2020-03-18</td>\n",
       "      <td>7386.00</td>\n",
       "      <td>7392.25</td>\n",
       "      <td>6830.00</td>\n",
       "      <td>7225.25000</td>\n",
       "      <td>7225.25000</td>\n",
       "      <td>156283.0</td>\n",
       "    </tr>\n",
       "    <tr>\n",
       "      <th>4922</th>\n",
       "      <td>2020-03-19</td>\n",
       "      <td>7251.75</td>\n",
       "      <td>7521.50</td>\n",
       "      <td>6894.25</td>\n",
       "      <td>7293.50000</td>\n",
       "      <td>7293.50000</td>\n",
       "      <td>115519.0</td>\n",
       "    </tr>\n",
       "    <tr>\n",
       "      <th>4923</th>\n",
       "      <td>2020-03-20</td>\n",
       "      <td>7195.00</td>\n",
       "      <td>7649.00</td>\n",
       "      <td>7153.50</td>\n",
       "      <td>7417.97998</td>\n",
       "      <td>7417.97998</td>\n",
       "      <td>562616.0</td>\n",
       "    </tr>\n",
       "    <tr>\n",
       "      <th>4924</th>\n",
       "      <td>2020-03-22</td>\n",
       "      <td>6798.00</td>\n",
       "      <td>6798.00</td>\n",
       "      <td>6628.75</td>\n",
       "      <td>6688.75000</td>\n",
       "      <td>6688.75000</td>\n",
       "      <td>321230.0</td>\n",
       "    </tr>\n",
       "    <tr>\n",
       "      <th>4925</th>\n",
       "      <td>2020-03-23</td>\n",
       "      <td>6798.00</td>\n",
       "      <td>7316.25</td>\n",
       "      <td>6628.75</td>\n",
       "      <td>6984.50000</td>\n",
       "      <td>6984.50000</td>\n",
       "      <td>633237.0</td>\n",
       "    </tr>\n",
       "    <tr>\n",
       "      <th>4926</th>\n",
       "      <td>2020-03-24</td>\n",
       "      <td>7005.75</td>\n",
       "      <td>7572.25</td>\n",
       "      <td>7005.75</td>\n",
       "      <td>7554.75000</td>\n",
       "      <td>7554.75000</td>\n",
       "      <td>556553.0</td>\n",
       "    </tr>\n",
       "    <tr>\n",
       "      <th>4927</th>\n",
       "      <td>2020-03-25</td>\n",
       "      <td>7544.75</td>\n",
       "      <td>7761.00</td>\n",
       "      <td>7371.50</td>\n",
       "      <td>7467.75000</td>\n",
       "      <td>7467.75000</td>\n",
       "      <td>656698.0</td>\n",
       "    </tr>\n",
       "    <tr>\n",
       "      <th>4928</th>\n",
       "      <td>2020-03-26</td>\n",
       "      <td>7483.50</td>\n",
       "      <td>7893.50</td>\n",
       "      <td>7310.25</td>\n",
       "      <td>7844.00000</td>\n",
       "      <td>7844.00000</td>\n",
       "      <td>567711.0</td>\n",
       "    </tr>\n",
       "    <tr>\n",
       "      <th>4929</th>\n",
       "      <td>2020-03-27</td>\n",
       "      <td>7882.75</td>\n",
       "      <td>7893.25</td>\n",
       "      <td>7551.25</td>\n",
       "      <td>7568.50000</td>\n",
       "      <td>7568.50000</td>\n",
       "      <td>443315.0</td>\n",
       "    </tr>\n",
       "  </tbody>\n",
       "</table>\n",
       "</div>"
      ],
      "text/plain": [
       "           Date     Open     High      Low       Close   Adj Close    Volume\n",
       "4920 2020-03-17  7053.00  7552.25  6948.75  7405.25000  7405.25000  317501.0\n",
       "4921 2020-03-18  7386.00  7392.25  6830.00  7225.25000  7225.25000  156283.0\n",
       "4922 2020-03-19  7251.75  7521.50  6894.25  7293.50000  7293.50000  115519.0\n",
       "4923 2020-03-20  7195.00  7649.00  7153.50  7417.97998  7417.97998  562616.0\n",
       "4924 2020-03-22  6798.00  6798.00  6628.75  6688.75000  6688.75000  321230.0\n",
       "4925 2020-03-23  6798.00  7316.25  6628.75  6984.50000  6984.50000  633237.0\n",
       "4926 2020-03-24  7005.75  7572.25  7005.75  7554.75000  7554.75000  556553.0\n",
       "4927 2020-03-25  7544.75  7761.00  7371.50  7467.75000  7467.75000  656698.0\n",
       "4928 2020-03-26  7483.50  7893.50  7310.25  7844.00000  7844.00000  567711.0\n",
       "4929 2020-03-27  7882.75  7893.25  7551.25  7568.50000  7568.50000  443315.0"
      ]
     },
     "execution_count": 27,
     "metadata": {},
     "output_type": "execute_result"
    }
   ],
   "source": [
    "df.iloc[4920:4930]"
   ]
  },
  {
   "cell_type": "markdown",
   "metadata": {},
   "source": [
    "- 3월 21일은 토요일 , 3월 22일은 일요일임으로 두 날은 없어야 마땅하다. \n",
    "- 그레서 이 데이터는 이상치로 여기고 제거하기로 한다. \n",
    "- investing.com 에서도 확인한 결과 3월 22일 거래일은 없다. "
   ]
  },
  {
   "cell_type": "code",
   "execution_count": 28,
   "metadata": {},
   "outputs": [],
   "source": [
    "# 4924 번 2020 3월 22일  제거 \n",
    "df = df.drop([4924])"
   ]
  },
  {
   "cell_type": "markdown",
   "metadata": {},
   "source": [
    "### DBSCAN 로 이상치 탐색하기\n",
    "\n",
    "------\n",
    "\n",
    "DBSCAN 알고리즘은 핵심벡터와 일정 거리 \n",
    "ϵ\n",
    " 이내인 데이터 벡터들이 군집(Cluster)을 이루게 하는데, 그러한 군집들과 거리상 동떨어져 군집에 들지 못하는 특이한 데이터들을 노이즈(Noise) 벡터라고 부릅니다.\n",
    "DBSCAN을 통해 이상치를 찾는 것은 바로 이러한 노이즈 벡터를 찾는 것"
   ]
  },
  {
   "cell_type": "code",
   "execution_count": 29,
   "metadata": {},
   "outputs": [
    {
     "data": {
      "text/plain": [
       "DBSCAN(min_samples=6)"
      ]
     },
     "execution_count": 29,
     "metadata": {},
     "output_type": "execute_result"
    }
   ],
   "source": [
    "# from sklearn.cluster import DBSCAN\n",
    "clustering = DBSCAN(eps=0.5, min_samples=6).fit(norm_rdf)\n",
    "clustering"
   ]
  },
  {
   "cell_type": "code",
   "execution_count": 30,
   "metadata": {},
   "outputs": [
    {
     "name": "stdout",
     "output_type": "stream",
     "text": [
      "[ 0  0  1 ... -1 -1 -1]\n"
     ]
    }
   ],
   "source": [
    "# 분류된 라벨들은 이렇게 확인할 수 있어요\n",
    "print(clustering.labels_)"
   ]
  },
  {
   "cell_type": "code",
   "execution_count": 31,
   "metadata": {},
   "outputs": [
    {
     "data": {
      "text/plain": [
       "['group:-1-count:486',\n",
       " 'group:0-count:4585',\n",
       " 'group:1-count:22',\n",
       " 'group:2-count:5']"
      ]
     },
     "execution_count": 31,
     "metadata": {},
     "output_type": "execute_result"
    }
   ],
   "source": [
    "lbl, cnt = np.unique(clustering.labels_,return_counts=True)\n",
    "['group:{}-count:{}'.format(group, count) for group, count in zip(lbl, cnt)]"
   ]
  },
  {
   "cell_type": "markdown",
   "metadata": {},
   "source": [
    "- DBSCAN 은 그룹 1 - 22개 , 그룹 2 - 5개 소수그룹을 분류했다. "
   ]
  },
  {
   "cell_type": "markdown",
   "metadata": {},
   "source": [
    "## Auto-Encoder 로 이상치 탐색하기\n",
    "\n",
    "------\n",
    "\n",
    "- 오토인코더는 인코더와 디코더로 구성됩니다.\n",
    "- 인코더는 입력데이터로부터 중요한 정보(Compressed Feature Vector)를 뽑아냅니다\n",
    "- 이 과정에서 입력데이터보다 압축된 형태의 데이터를 얻습니다.\n",
    "- 디코더는 중요한 정보로 입력데이터와 유사한 형태를 재생성(Generate)합니다.\n",
    "- 인코더가 중요한 정보를 '잘'뽑아내면, 디코더는 입력데이터를 거의 똑같이 생성해낼수 있다.\n",
    "\n",
    "\n",
    "#### 딥러닝 이상치 탐색의 장점\n",
    "1. Time series decompostion 없이 분석 수행이 가능하다\n",
    "2. Trend, Seasonal 데이터를 포함하고 있기 때문에 Trend, Seasonal의 변화도 이상치로써 탐색이 가능하다.\n",
    "\n",
    "#### 딥러닝 이상치 탐색의 단점\n",
    "1. 분석자의 주관이 어느정도 필요하긴 하다 (Threshold, window)\n",
    "2. 학습에 활용할 만큼 충분한 데이터가 확보되어야한다.\n",
    "\n",
    "본 예제는 keras 공식 예제를 재가공 했습니다"
   ]
  },
  {
   "cell_type": "code",
   "execution_count": 35,
   "metadata": {},
   "outputs": [],
   "source": [
    "# 필요한 라이브러리를 불러옵니다\n",
    "\n",
    "import tensorflow as tf\n",
    "from tensorflow.keras.preprocessing.sequence import TimeseriesGenerator\n",
    "from tensorflow.keras.models import Sequential\n",
    "from tensorflow.keras.layers import Dense, Dropout, LSTM, RepeatVector, TimeDistributed\n",
    "from tensorflow.keras.losses import Huber\n",
    "from tensorflow.keras.callbacks import ModelCheckpoint, EarlyStopping"
   ]
  },
  {
   "cell_type": "code",
   "execution_count": 34,
   "metadata": {},
   "outputs": [],
   "source": [
    "# 모델 재현성을 위해 난수 시드설정을 해줍니다\n",
    "tf.random.set_seed(777)\n",
    "np.random.seed(777)"
   ]
  },
  {
   "cell_type": "markdown",
   "metadata": {},
   "source": [
    "### LSTM 을 이용한 오토인코더 모델 만들기\n",
    "\n",
    "---\n",
    "\n",
    "##### 데이터 전처리\n",
    "\n",
    "- 입력 변수를 정규화시켜줘야 딥러닝 모델 학습이 원활합니다\n",
    "- 가장 일반적인 표준정규분포로 전처리해요"
   ]
  },
  {
   "cell_type": "code",
   "execution_count": 36,
   "metadata": {},
   "outputs": [],
   "source": [
    "from sklearn.preprocessing import StandardScaler\n",
    "\n",
    "# 데이터 전처리 - 하이퍼 파라미터\n",
    "window_size = 10\n",
    "batch_size = 32\n",
    "features = ['Open','High','Low','Close','Volume']\n",
    "n_features = len(features)\n",
    "TRAIN_SIZE = int(len(df)*0.7)\n",
    "\n",
    "# 데이터 전처리\n",
    "# 표준정규분포화합니다.\n",
    "\n",
    "scaler = StandardScaler()\n",
    "scaler = scaler.fit(df.loc[:TRAIN_SIZE,features].values)\n",
    "scaled = scaler.transform(df[features].values)"
   ]
  },
  {
   "cell_type": "markdown",
   "metadata": {},
   "source": [
    "##### keras TimeseriesGenerator 를 이용해서 간편하게 데이터 셋을 만듭니다\n",
    "- data : 입력데이터(x)를 넣어줍니다. 우리는 'Open','High','Low','Close','Volume' 5가지 인풋을 사용합니다.\n",
    "\n",
    "- targets : 출력데이터를 넣어줍니다. 우리는 5가지 인풋 그대로 예측하기 때문에 data와 동일한걸 넣어줍니다.\n",
    "\n",
    "- length : 몇개의 time_step을 참고할지 입력합니다.\n",
    "\n",
    "- stride : time_step 사이즈를 결정합니다.\n",
    "\n",
    "더 자세히 알고 싶다면 [텐서플로우 공식 문서](https://www.tensorflow.org/api_docs/python/tf/keras/preprocessing/sequence/TimeseriesGenerator)!!"
   ]
  },
  {
   "cell_type": "code",
   "execution_count": 38,
   "metadata": {},
   "outputs": [
    {
     "name": "stdout",
     "output_type": "stream",
     "text": [
      "(32, 10, 5)\n",
      "(32, 5)\n"
     ]
    }
   ],
   "source": [
    "# keras TimeseriesGenerator 를 이용해서 간편하게 데이터 셋을 만듭니다\n",
    "\n",
    "train_gen = TimeseriesGenerator(\n",
    "    data = scaled,\n",
    "    targets = scaled,\n",
    "    length = window_size,\n",
    "    stride=1,\n",
    "    sampling_rate=1,\n",
    "    batch_size= batch_size,\n",
    "    shuffle=False,\n",
    "    start_index=0,\n",
    "    end_index=None,\n",
    ")\n",
    "\n",
    "valid_gen = TimeseriesGenerator(\n",
    "    data = scaled,\n",
    "    targets = scaled,\n",
    "    length = window_size,\n",
    "    stride=1,\n",
    "    sampling_rate=1,\n",
    "    batch_size=batch_size,\n",
    "    shuffle=False,\n",
    "    start_index=TRAIN_SIZE,\n",
    "    end_index=None,\n",
    ")\n",
    "\n",
    "print(train_gen[0][0].shape)\n",
    "print(train_gen[0][1].shape)"
   ]
  },
  {
   "cell_type": "markdown",
   "metadata": {},
   "source": [
    "#### 모델 만들기\n",
    "- 2개 층의 LSTM으로 인코더를 만듭니다\n",
    "- RepeatVector는 input을 window_size 만큼 복사해줍니다."
   ]
  },
  {
   "cell_type": "code",
   "execution_count": 43,
   "metadata": {},
   "outputs": [
    {
     "name": "stdout",
     "output_type": "stream",
     "text": [
      "WARNING:tensorflow:Layer lstm_1 will not use cuDNN kernel since it doesn't meet the cuDNN kernel criteria. It will use generic GPU kernel as fallback when running on GPU\n",
      "WARNING:tensorflow:Layer lstm_2 will not use cuDNN kernel since it doesn't meet the cuDNN kernel criteria. It will use generic GPU kernel as fallback when running on GPU\n",
      "WARNING:tensorflow:Layer lstm_3 will not use cuDNN kernel since it doesn't meet the cuDNN kernel criteria. It will use generic GPU kernel as fallback when running on GPU\n",
      "WARNING:tensorflow:Layer lstm_4 will not use cuDNN kernel since it doesn't meet the cuDNN kernel criteria. It will use generic GPU kernel as fallback when running on GPU\n",
      "Model: \"sequential\"\n",
      "_________________________________________________________________\n",
      "Layer (type)                 Output Shape              Param #   \n",
      "=================================================================\n",
      "lstm_1 (LSTM)                (None, 10, 64)            17920     \n",
      "_________________________________________________________________\n",
      "lstm_2 (LSTM)                (None, 16)                5184      \n",
      "_________________________________________________________________\n",
      "repeat_vector (RepeatVector) (None, 10, 16)            0         \n",
      "_________________________________________________________________\n",
      "lstm_3 (LSTM)                (None, 10, 16)            2112      \n",
      "_________________________________________________________________\n",
      "lstm_4 (LSTM)                (None, 64)                20736     \n",
      "_________________________________________________________________\n",
      "dense (Dense)                (None, 5)                 325       \n",
      "=================================================================\n",
      "Total params: 46,277\n",
      "Trainable params: 46,277\n",
      "Non-trainable params: 0\n",
      "_________________________________________________________________\n"
     ]
    }
   ],
   "source": [
    "model = Sequential([\n",
    "    # >> 인코더 시작\n",
    "    LSTM(64, activation='relu', return_sequences=True, \n",
    "         input_shape=(window_size, n_features)),\n",
    "    LSTM(16, activation='relu', return_sequences=False),\n",
    "    ## << 인코더 끝\n",
    "    ## >> Bottleneck\n",
    "    RepeatVector(window_size),\n",
    "    ## << Bottleneck\n",
    "    ## >> 디코더 시작\n",
    "    LSTM(16, activation='relu', return_sequences=True),\n",
    "    LSTM(64, activation='relu', return_sequences=False),\n",
    "    Dense(n_features)\n",
    "    ## << 디코더 끝\n",
    "])\n",
    "\n",
    "model.summary()"
   ]
  },
  {
   "cell_type": "code",
   "execution_count": 44,
   "metadata": {},
   "outputs": [],
   "source": [
    "# 체크포인트\n",
    "# 학습을 진행하며 validation 결과가 가장 좋은 모델을 저장해둠\n",
    "import os\n",
    "\n",
    "checkpoint_path = os.getenv('HOME')+'/aiffel/anomaly_detection/kospi/mymodel.ckpt'\n",
    "checkpoint = ModelCheckpoint(checkpoint_path, \n",
    "                             save_weights_only=True, \n",
    "                             save_best_only=True, \n",
    "                             monitor='val_loss',\n",
    "                             verbose=1)\n",
    "\n",
    "# 얼리스탑\n",
    "# 학습을 진행하며 validation 결과가 나빠지면 스톱. patience 횟수만큼은 참고 지켜본다\n",
    "\n",
    "early_stop = EarlyStopping(monitor='val_loss', patience=5)\n",
    "\n",
    "model.compile(loss='mae', optimizer='adam',metrics=[\"mae\"])"
   ]
  },
  {
   "cell_type": "code",
   "execution_count": 45,
   "metadata": {},
   "outputs": [
    {
     "name": "stdout",
     "output_type": "stream",
     "text": [
      "Epoch 1/50\n",
      "159/159 [==============================] - ETA: 0s - loss: 1.0930 - mae: 1.0930\n",
      "Epoch 00001: val_loss improved from inf to 1.25179, saving model to /home/aiffel0042/aiffel/anomaly_detection/kospi/mymodel.ckpt\n",
      "159/159 [==============================] - 5s 30ms/step - loss: 1.0930 - mae: 1.0930 - val_loss: 1.2518 - val_mae: 1.2518\n",
      "Epoch 2/50\n",
      "159/159 [==============================] - ETA: 0s - loss: 0.7000 - mae: 0.7000\n",
      "Epoch 00002: val_loss improved from 1.25179 to 0.64296, saving model to /home/aiffel0042/aiffel/anomaly_detection/kospi/mymodel.ckpt\n",
      "159/159 [==============================] - 4s 28ms/step - loss: 0.7000 - mae: 0.7000 - val_loss: 0.6430 - val_mae: 0.6430\n",
      "Epoch 3/50\n",
      "158/159 [============================>.] - ETA: 0s - loss: 0.4081 - mae: 0.4081\n",
      "Epoch 00003: val_loss did not improve from 0.64296\n",
      "159/159 [==============================] - 4s 28ms/step - loss: 0.4072 - mae: 0.4072 - val_loss: 1.2903 - val_mae: 1.2903\n",
      "Epoch 4/50\n",
      "158/159 [============================>.] - ETA: 0s - loss: 0.4366 - mae: 0.4366\n",
      "Epoch 00004: val_loss improved from 0.64296 to 0.55070, saving model to /home/aiffel0042/aiffel/anomaly_detection/kospi/mymodel.ckpt\n",
      "159/159 [==============================] - 4s 27ms/step - loss: 0.4352 - mae: 0.4352 - val_loss: 0.5507 - val_mae: 0.5507\n",
      "Epoch 5/50\n",
      "159/159 [==============================] - ETA: 0s - loss: 0.4124 - mae: 0.4124\n",
      "Epoch 00005: val_loss did not improve from 0.55070\n",
      "159/159 [==============================] - 4s 28ms/step - loss: 0.4124 - mae: 0.4124 - val_loss: 1.0189 - val_mae: 1.0189\n",
      "Epoch 6/50\n",
      "158/159 [============================>.] - ETA: 0s - loss: 0.4502 - mae: 0.4502\n",
      "Epoch 00006: val_loss improved from 0.55070 to 0.54076, saving model to /home/aiffel0042/aiffel/anomaly_detection/kospi/mymodel.ckpt\n",
      "159/159 [==============================] - 4s 27ms/step - loss: 0.4487 - mae: 0.4487 - val_loss: 0.5408 - val_mae: 0.5408\n",
      "Epoch 7/50\n",
      "157/159 [============================>.] - ETA: 0s - loss: 0.3258 - mae: 0.3258\n",
      "Epoch 00007: val_loss improved from 0.54076 to 0.46152, saving model to /home/aiffel0042/aiffel/anomaly_detection/kospi/mymodel.ckpt\n",
      "159/159 [==============================] - 5s 29ms/step - loss: 0.3256 - mae: 0.3256 - val_loss: 0.4615 - val_mae: 0.4615\n",
      "Epoch 8/50\n",
      "158/159 [============================>.] - ETA: 0s - loss: 0.3311 - mae: 0.3311\n",
      "Epoch 00008: val_loss improved from 0.46152 to 0.40494, saving model to /home/aiffel0042/aiffel/anomaly_detection/kospi/mymodel.ckpt\n",
      "159/159 [==============================] - 4s 28ms/step - loss: 0.3361 - mae: 0.3361 - val_loss: 0.4049 - val_mae: 0.4049\n",
      "Epoch 9/50\n",
      "158/159 [============================>.] - ETA: 0s - loss: 0.3646 - mae: 0.3646\n",
      "Epoch 00009: val_loss did not improve from 0.40494\n",
      "159/159 [==============================] - 4s 27ms/step - loss: 0.3661 - mae: 0.3661 - val_loss: 0.9324 - val_mae: 0.9324\n",
      "Epoch 10/50\n",
      "159/159 [==============================] - ETA: 0s - loss: 0.3314 - mae: 0.3314\n",
      "Epoch 00010: val_loss did not improve from 0.40494\n",
      "159/159 [==============================] - 5s 29ms/step - loss: 0.3314 - mae: 0.3314 - val_loss: 1.0229 - val_mae: 1.0229\n",
      "Epoch 11/50\n",
      "159/159 [==============================] - ETA: 0s - loss: 0.3175 - mae: 0.3175\n",
      "Epoch 00011: val_loss improved from 0.40494 to 0.37766, saving model to /home/aiffel0042/aiffel/anomaly_detection/kospi/mymodel.ckpt\n",
      "159/159 [==============================] - 4s 28ms/step - loss: 0.3175 - mae: 0.3175 - val_loss: 0.3777 - val_mae: 0.3777\n",
      "Epoch 12/50\n",
      "158/159 [============================>.] - ETA: 0s - loss: 0.3230 - mae: 0.3230\n",
      "Epoch 00012: val_loss did not improve from 0.37766\n",
      "159/159 [==============================] - 4s 28ms/step - loss: 0.3228 - mae: 0.3228 - val_loss: 0.5749 - val_mae: 0.5749\n",
      "Epoch 13/50\n",
      "159/159 [==============================] - ETA: 0s - loss: 0.2827 - mae: 0.2827\n",
      "Epoch 00013: val_loss improved from 0.37766 to 0.33429, saving model to /home/aiffel0042/aiffel/anomaly_detection/kospi/mymodel.ckpt\n",
      "159/159 [==============================] - 4s 27ms/step - loss: 0.2827 - mae: 0.2827 - val_loss: 0.3343 - val_mae: 0.3343\n",
      "Epoch 14/50\n",
      "158/159 [============================>.] - ETA: 0s - loss: 0.3183 - mae: 0.3183\n",
      "Epoch 00014: val_loss did not improve from 0.33429\n",
      "159/159 [==============================] - 5s 29ms/step - loss: 0.3172 - mae: 0.3172 - val_loss: 0.7592 - val_mae: 0.7592\n",
      "Epoch 15/50\n",
      "159/159 [==============================] - ETA: 0s - loss: 0.2933 - mae: 0.2933\n",
      "Epoch 00015: val_loss did not improve from 0.33429\n",
      "159/159 [==============================] - 4s 27ms/step - loss: 0.2933 - mae: 0.2933 - val_loss: 1.2588 - val_mae: 1.2588\n",
      "Epoch 16/50\n",
      "158/159 [============================>.] - ETA: 0s - loss: 0.3292 - mae: 0.3292\n",
      "Epoch 00016: val_loss improved from 0.33429 to 0.32729, saving model to /home/aiffel0042/aiffel/anomaly_detection/kospi/mymodel.ckpt\n",
      "159/159 [==============================] - 4s 27ms/step - loss: 0.3299 - mae: 0.3299 - val_loss: 0.3273 - val_mae: 0.3273\n",
      "Epoch 17/50\n",
      "159/159 [==============================] - ETA: 0s - loss: 0.2746 - mae: 0.2746\n",
      "Epoch 00017: val_loss did not improve from 0.32729\n",
      "159/159 [==============================] - 4s 27ms/step - loss: 0.2746 - mae: 0.2746 - val_loss: 0.6623 - val_mae: 0.6623\n",
      "Epoch 18/50\n",
      "159/159 [==============================] - ETA: 0s - loss: 0.3157 - mae: 0.3157\n",
      "Epoch 00018: val_loss did not improve from 0.32729\n",
      "159/159 [==============================] - 4s 28ms/step - loss: 0.3157 - mae: 0.3157 - val_loss: 0.4943 - val_mae: 0.4943\n",
      "Epoch 19/50\n",
      "159/159 [==============================] - ETA: 0s - loss: 0.2883 - mae: 0.2883\n",
      "Epoch 00019: val_loss did not improve from 0.32729\n",
      "159/159 [==============================] - 4s 27ms/step - loss: 0.2883 - mae: 0.2883 - val_loss: 0.5317 - val_mae: 0.5317\n",
      "Epoch 20/50\n",
      "157/159 [============================>.] - ETA: 0s - loss: 0.3512 - mae: 0.3512\n",
      "Epoch 00020: val_loss did not improve from 0.32729\n",
      "159/159 [==============================] - 4s 27ms/step - loss: 0.3513 - mae: 0.3513 - val_loss: 0.4222 - val_mae: 0.4222\n",
      "Epoch 21/50\n",
      "158/159 [============================>.] - ETA: 0s - loss: 0.2847 - mae: 0.2847\n",
      "Epoch 00021: val_loss did not improve from 0.32729\n",
      "159/159 [==============================] - 4s 27ms/step - loss: 0.2836 - mae: 0.2836 - val_loss: 0.4914 - val_mae: 0.4914\n"
     ]
    }
   ],
   "source": [
    "lstm_hist = model.fit(train_gen, \n",
    "          validation_data=valid_gen,\n",
    "          steps_per_epoch=len(train_gen),\n",
    "          validation_steps=len(valid_gen),\n",
    "          epochs=50, \n",
    "          callbacks=[checkpoint, early_stop])"
   ]
  },
  {
   "cell_type": "code",
   "execution_count": 46,
   "metadata": {},
   "outputs": [
    {
     "data": {
      "text/plain": [
       "<tensorflow.python.training.tracking.util.CheckpointLoadStatus at 0x7f3ed05462d0>"
      ]
     },
     "execution_count": 46,
     "metadata": {},
     "output_type": "execute_result"
    }
   ],
   "source": [
    "model.load_weights(checkpoint_path)"
   ]
  },
  {
   "cell_type": "markdown",
   "metadata": {},
   "source": [
    "### 학습 과정을 확인\n"
   ]
  },
  {
   "cell_type": "code",
   "execution_count": 48,
   "metadata": {
    "scrolled": true
   },
   "outputs": [
    {
     "data": {
      "text/plain": [
       "<matplotlib.legend.Legend at 0x7f3f0043d6d0>"
      ]
     },
     "execution_count": 48,
     "metadata": {},
     "output_type": "execute_result"
    },
    {
     "data": {
      "image/png": "[encoded data removed]",
      "text/plain": [
       "<Figure size 864x576 with 1 Axes>"
      ]
     },
     "metadata": {
      "needs_background": "light"
     },
     "output_type": "display_data"
    }
   ],
   "source": [
    "fig = plt.figure(figsize=(12,8))\n",
    "plt.plot(lstm_hist.history['loss'], label='Training')\n",
    "plt.plot(lstm_hist.history['val_loss'], label='Validation')\n",
    "plt.legend()"
   ]
  },
  {
   "cell_type": "code",
   "execution_count": null,
   "metadata": {},
   "outputs": [],
   "source": []
  }
 ],
 "metadata": {
  "kernelspec": {
   "display_name": "Python 3",
   "language": "python",
   "name": "python3"
  },
  "language_info": {
   "codemirror_mode": {
    "name": "ipython",
    "version": 3
   },
   "file_extension": ".py",
   "mimetype": "text/x-python",
   "name": "python",
   "nbconvert_exporter": "python",
   "pygments_lexer": "ipython3",
   "version": "3.7.6"
  }
 },
 "nbformat": 4,
 "nbformat_minor": 4
}
