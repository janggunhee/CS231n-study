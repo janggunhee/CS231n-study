{
 "cells": [
  {
   "cell_type": "markdown",
   "metadata": {},
   "source": [
    "# 미니프로젝트 : 가위바위보 분류기 만들기 "
   ]
  },
  {
   "cell_type": "markdown",
   "metadata": {},
   "source": [
    "## 데이터를 준비하기 \n",
    "\n",
    "### 가위 / 바위 / 보 이미지 데이터 만들기 \n",
    "\n",
    "- 구글의 teachable machine 사이트에서 쉽게 데이터를 만들어볼 수 있습니다.\n",
    "\n",
    "- 아래 사이트에서 Get Started 버튼을 눌러보세요.\n",
    "\n",
    "- 그 다음, Image Project를 선택하면 Webcam을 구동해 클래스별 이미지 데이터를 직접 촬영해서 만들 수 있는 멋진 화면이 나타납니다.\n",
    "\n",
    "- [goggle teachable machine 링크](https://teachablemachine.withgoogle.com/)\n"
   ]
  },
  {
   "cell_type": "markdown",
   "metadata": {},
   "source": [
    "### 데이터 불러오기 + Resize 하기 \n",
    "\n",
    "- 구글로 만들어진 이미지의 사이즈가 224x224 이다. \n",
    "- 그래서 28x28 사이즈로 Resize 해줘야 합니다. \n",
    "\n"
   ]
  },
  {
   "cell_type": "code",
   "execution_count": 1,
   "metadata": {},
   "outputs": [
    {
     "name": "stdout",
     "output_type": "stream",
     "text": [
      "PIL 라이브러리 import 완료!\n"
     ]
    }
   ],
   "source": [
    "# PIL 라이브러리가 설치되어 있지 않다면 설치\n",
    "# !pip install pillow   \n",
    "\n",
    "from PIL import Image\n",
    "import os, glob\n",
    "import numpy as np\n",
    "\n",
    "print(\"PIL 라이브러리 import 완료!\")"
   ]
  },
  {
   "cell_type": "markdown",
   "metadata": {},
   "source": [
    "### 가위 Resize "
   ]
  },
  {
   "cell_type": "code",
   "execution_count": 2,
   "metadata": {},
   "outputs": [
    {
     "name": "stdout",
     "output_type": "stream",
     "text": [
      "이미지 디렉토리 경로:  /home/aiffel0042/Project/rock_scissor_paper/scissor\n",
      "가위 이미지 resize 완료!\n"
     ]
    }
   ],
   "source": [
    "import os\n",
    "# 가위 이미지가 저장된 디렉토리 아래의 모든 jpg 파일을 읽어들여서\n",
    "image_dir_path = os.getenv(\"HOME\") + \"/Project/rock_scissor_paper/scissor\"\n",
    "print(\"이미지 디렉토리 경로: \", image_dir_path)\n",
    "\n",
    "images=glob.glob(image_dir_path + \"/*.jpg\")  \n",
    "\n",
    "# 파일마다 모두 28x28 사이즈로 바꾸어 저장합니다.\n",
    "target_size=(28,28)\n",
    "for img in images:\n",
    "    old_img=Image.open(img)\n",
    "    new_img=old_img.resize(target_size,Image.ANTIALIAS)\n",
    "    new_img.save(img,\"JPEG\")\n",
    "\n",
    "print(\"가위 이미지 resize 완료!\")"
   ]
  },
  {
   "cell_type": "markdown",
   "metadata": {},
   "source": [
    "### 바위 Resize "
   ]
  },
  {
   "cell_type": "code",
   "execution_count": 3,
   "metadata": {},
   "outputs": [
    {
     "name": "stdout",
     "output_type": "stream",
     "text": [
      "이미지 디렉토리 경로:  /home/aiffel0042/Project/rock_scissor_paper/rock\n",
      "바위 이미지 resize 완료!\n"
     ]
    }
   ],
   "source": [
    "# 바위 이미지가 저장된 디렉토리 아래의 모든 jpg 파일을 읽어들여서\n",
    "image_dir_path = os.getenv(\"HOME\") + \"/Project/rock_scissor_paper/rock\"\n",
    "print(\"이미지 디렉토리 경로: \", image_dir_path)\n",
    "\n",
    "images=glob.glob(image_dir_path + \"/*.jpg\")  \n",
    "\n",
    "\n",
    "# 파일마다 모두 28x28 사이즈로 바꾸어 저장합니다.\n",
    "target_size=(28,28)\n",
    "for img in images:\n",
    "    old_img=Image.open(img)\n",
    "    new_img=old_img.resize(target_size,Image.ANTIALIAS)\n",
    "    new_img.save(img,\"JPEG\")\n",
    "\n",
    "print(\"바위 이미지 resize 완료!\")"
   ]
  },
  {
   "cell_type": "markdown",
   "metadata": {},
   "source": [
    "### 보 Resize "
   ]
  },
  {
   "cell_type": "code",
   "execution_count": 4,
   "metadata": {},
   "outputs": [
    {
     "name": "stdout",
     "output_type": "stream",
     "text": [
      "이미지 디렉토리 경로:  /home/aiffel0042/Project/rock_scissor_paper/paper\n",
      "보 이미지 resize 완료!\n"
     ]
    }
   ],
   "source": [
    "# 보 이미지가 저장된 디렉토리 아래의 모든 jpg 파일을 읽어들여서\n",
    "image_dir_path = os.getenv(\"HOME\") + \"/Project/rock_scissor_paper/paper\"\n",
    "print(\"이미지 디렉토리 경로: \", image_dir_path)\n",
    "\n",
    "images=glob.glob(image_dir_path + \"/*.jpg\")  \n",
    "\n",
    "# 파일마다 모두 28x28 사이즈로 바꾸어 저장합니다.\n",
    "target_size=(28,28)\n",
    "for img in images:\n",
    "    old_img=Image.open(img)\n",
    "    new_img=old_img.resize(target_size,Image.ANTIALIAS)\n",
    "    new_img.save(img,\"JPEG\")\n",
    "\n",
    "print(\"보 이미지 resize 완료!\")"
   ]
  },
  {
   "cell_type": "markdown",
   "metadata": {},
   "source": [
    "### 데이터 불러들어오기 load_data()"
   ]
  },
  {
   "cell_type": "code",
   "execution_count": 7,
   "metadata": {},
   "outputs": [
    {
     "name": "stdout",
     "output_type": "stream",
     "text": [
      "학습데이터(x_train)의 이미지 개수는 7500 입니다.\n",
      "x_train shape: (7500, 28, 28, 3)\n",
      "y_train shape: (7500,)\n",
      "최소값: 0  최대값: 255\n",
      "최소값: 0.0  최대값: 1.0\n"
     ]
    }
   ],
   "source": [
    "def load_data(img_path):\n",
    "    # 가위 : 0, 바위 : 1, 보 : 2\n",
    "    number_of_data=7500   # 가위바위보 이미지 개수 총합에 주의하세요.\n",
    "    img_size=28\n",
    "    color=3\n",
    "    #이미지 데이터와 라벨(가위 : 0, 바위 : 1, 보 : 2) 데이터를 담을 행렬(matrix) 영역을 생성합니다.\n",
    "    imgs=np.zeros(number_of_data*img_size*img_size*color,dtype=np.int32).reshape(number_of_data,img_size,img_size,color)\n",
    "    labels=np.zeros(number_of_data,dtype=np.int32)\n",
    "\n",
    "    idx=0\n",
    "    for file in glob.iglob(img_path+'/scissor/*.jpg'):\n",
    "        img = np.array(Image.open(file),dtype=np.int32)\n",
    "        imgs[idx,:,:,:]=img    # 데이터 영역에 이미지 행렬을 복사\n",
    "        labels[idx]=0   # 가위 : 0\n",
    "        idx=idx+1\n",
    "\n",
    "    for file in glob.iglob(img_path+'/rock/*.jpg'):\n",
    "        img = np.array(Image.open(file),dtype=np.int32)\n",
    "        imgs[idx,:,:,:]=img    # 데이터 영역에 이미지 행렬을 복사\n",
    "        labels[idx]=1   # 바위 : 1\n",
    "        idx=idx+1       \n",
    "    \n",
    "    for file in glob.iglob(img_path+'/paper/*.jpg'):\n",
    "        img = np.array(Image.open(file),dtype=np.int32)\n",
    "        imgs[idx,:,:,:]=img    # 데이터 영역에 이미지 행렬을 복사\n",
    "        labels[idx]=2   # 보 : 2\n",
    "        idx=idx+1\n",
    "        \n",
    "    print(\"학습데이터(x_train)의 이미지 개수는\",idx,\"입니다.\")\n",
    "    return imgs, labels\n",
    "\n",
    "image_dir_path = os.getenv(\"HOME\") + \"/Project/rock_scissor_paper\"\n",
    "(x_train, y_train)=load_data(image_dir_path)\n",
    "x_train_norm = x_train/255.0   # 입력은 0~1 사이의 값으로 정규화\n",
    "\n",
    "print(\"x_train shape: {}\".format(x_train.shape))\n",
    "print(\"y_train shape: {}\".format(y_train.shape))\n",
    "\n",
    "# x_train 최소값 0 , 최대값 255 그래서 정규화를 /255.0 으로 해주어 최소값 최대값을 0-1 사이의 값으로 바꿈\n",
    "print('최소값:',np.min(x_train), ' 최대값:',np.max(x_train))\n",
    "print('최소값:',np.min(x_train_norm), ' 최대값:',np.max(x_train_norm))"
   ]
  },
  {
   "cell_type": "markdown",
   "metadata": {},
   "source": [
    "### 이미지 불러오기 "
   ]
  },
  {
   "cell_type": "code",
   "execution_count": 8,
   "metadata": {
    "scrolled": true
   },
   "outputs": [
    {
     "name": "stdout",
     "output_type": "stream",
     "text": [
      "라벨:  0\n"
     ]
    },
    {
     "data": {
      "image/png": "[encoded data removed]",
      "text/plain": [
       "<Figure size 432x288 with 1 Axes>"
      ]
     },
     "metadata": {
      "needs_background": "light"
     },
     "output_type": "display_data"
    }
   ],
   "source": [
    "import matplotlib.pyplot as plt\n",
    "plt.imshow(x_train[3])\n",
    "print('라벨: ', y_train[3])"
   ]
  },
  {
   "cell_type": "markdown",
   "metadata": {},
   "source": [
    "### 딥러닝 네트워크 설계하기 "
   ]
  },
  {
   "cell_type": "code",
   "execution_count": 9,
   "metadata": {},
   "outputs": [
    {
     "name": "stdout",
     "output_type": "stream",
     "text": [
      "Model에 추가된 Layer 개수:  7\n",
      "Model: \"sequential\"\n",
      "_________________________________________________________________\n",
      "Layer (type)                 Output Shape              Param #   \n",
      "=================================================================\n",
      "conv2d (Conv2D)              (None, 26, 26, 16)        448       \n",
      "_________________________________________________________________\n",
      "max_pooling2d (MaxPooling2D) (None, 13, 13, 16)        0         \n",
      "_________________________________________________________________\n",
      "conv2d_1 (Conv2D)            (None, 11, 11, 32)        4640      \n",
      "_________________________________________________________________\n",
      "max_pooling2d_1 (MaxPooling2 (None, 5, 5, 32)          0         \n",
      "_________________________________________________________________\n",
      "flatten (Flatten)            (None, 800)               0         \n",
      "_________________________________________________________________\n",
      "dense (Dense)                (None, 32)                25632     \n",
      "_________________________________________________________________\n",
      "dense_1 (Dense)              (None, 3)                 99        \n",
      "=================================================================\n",
      "Total params: 30,819\n",
      "Trainable params: 30,819\n",
      "Non-trainable params: 0\n",
      "_________________________________________________________________\n"
     ]
    }
   ],
   "source": [
    "import tensorflow as tf\n",
    "from tensorflow import keras\n",
    "import numpy as np\n",
    "\n",
    "# model을 직접 만들어 보세요.\n",
    "# Hint! model의 입력/출력부에 특히 유의해 주세요. 가위바위보 데이터셋은 MNIST 데이터셋과 어떤 점이 달라졌나요?\n",
    "model=keras.models.Sequential()\n",
    "model.add(keras.layers.Conv2D(16, (3,3), activation='relu', input_shape=(28,28,3)))\n",
    "model.add(keras.layers.MaxPool2D(2,2))\n",
    "model.add(keras.layers.Conv2D(32, (3,3), activation='relu'))\n",
    "model.add(keras.layers.MaxPooling2D((2,2)))\n",
    "model.add(keras.layers.Flatten())\n",
    "model.add(keras.layers.Dense(32, activation='relu'))\n",
    "model.add(keras.layers.Dense(3, activation='softmax'))\n",
    "\n",
    "print('Model에 추가된 Layer 개수: ', len(model.layers))\n",
    "model.summary()"
   ]
  },
  {
   "cell_type": "markdown",
   "metadata": {},
   "source": [
    "### 딥러닝 네트워크 학습시키기 "
   ]
  },
  {
   "cell_type": "code",
   "execution_count": 10,
   "metadata": {},
   "outputs": [
    {
     "name": "stdout",
     "output_type": "stream",
     "text": [
      "Epoch 1/60\n",
      "235/235 [==============================] - 1s 2ms/step - loss: 1.0058 - accuracy: 0.5016\n",
      "Epoch 2/60\n",
      "235/235 [==============================] - 1s 2ms/step - loss: 0.7363 - accuracy: 0.7047\n",
      "Epoch 3/60\n",
      "235/235 [==============================] - 1s 2ms/step - loss: 0.5753 - accuracy: 0.7852\n",
      "Epoch 4/60\n",
      "235/235 [==============================] - 1s 2ms/step - loss: 0.4451 - accuracy: 0.8381\n",
      "Epoch 5/60\n",
      "235/235 [==============================] - 1s 2ms/step - loss: 0.3457 - accuracy: 0.8837\n",
      "Epoch 6/60\n",
      "235/235 [==============================] - 1s 2ms/step - loss: 0.2871 - accuracy: 0.9057\n",
      "Epoch 7/60\n",
      "235/235 [==============================] - 1s 2ms/step - loss: 0.2414 - accuracy: 0.9244\n",
      "Epoch 8/60\n",
      "235/235 [==============================] - 1s 2ms/step - loss: 0.1936 - accuracy: 0.9392\n",
      "Epoch 9/60\n",
      "235/235 [==============================] - 1s 2ms/step - loss: 0.1644 - accuracy: 0.9497\n",
      "Epoch 10/60\n",
      "235/235 [==============================] - 1s 2ms/step - loss: 0.1377 - accuracy: 0.9589\n",
      "Epoch 11/60\n",
      "235/235 [==============================] - 1s 3ms/step - loss: 0.1187 - accuracy: 0.9639\n",
      "Epoch 12/60\n",
      "235/235 [==============================] - 1s 3ms/step - loss: 0.1025 - accuracy: 0.9668\n",
      "Epoch 13/60\n",
      "235/235 [==============================] - 1s 3ms/step - loss: 0.0850 - accuracy: 0.9732\n",
      "Epoch 14/60\n",
      "235/235 [==============================] - 1s 2ms/step - loss: 0.0715 - accuracy: 0.9780\n",
      "Epoch 15/60\n",
      "235/235 [==============================] - 1s 3ms/step - loss: 0.0684 - accuracy: 0.9776\n",
      "Epoch 16/60\n",
      "235/235 [==============================] - 1s 3ms/step - loss: 0.0589 - accuracy: 0.9815\n",
      "Epoch 17/60\n",
      "235/235 [==============================] - 1s 2ms/step - loss: 0.0484 - accuracy: 0.9848\n",
      "Epoch 18/60\n",
      "235/235 [==============================] - 1s 3ms/step - loss: 0.0373 - accuracy: 0.9903\n",
      "Epoch 19/60\n",
      "235/235 [==============================] - 1s 3ms/step - loss: 0.0279 - accuracy: 0.9936\n",
      "Epoch 20/60\n",
      "235/235 [==============================] - 1s 3ms/step - loss: 0.0264 - accuracy: 0.9931\n",
      "Epoch 21/60\n",
      "235/235 [==============================] - 1s 3ms/step - loss: 0.0281 - accuracy: 0.9921\n",
      "Epoch 22/60\n",
      "235/235 [==============================] - 1s 2ms/step - loss: 0.0188 - accuracy: 0.9953\n",
      "Epoch 23/60\n",
      "235/235 [==============================] - 1s 2ms/step - loss: 0.0163 - accuracy: 0.9964\n",
      "Epoch 24/60\n",
      "235/235 [==============================] - 1s 2ms/step - loss: 0.0103 - accuracy: 0.9977\n",
      "Epoch 25/60\n",
      "235/235 [==============================] - 1s 2ms/step - loss: 0.0094 - accuracy: 0.9983\n",
      "Epoch 26/60\n",
      "235/235 [==============================] - 1s 2ms/step - loss: 0.0106 - accuracy: 0.9977\n",
      "Epoch 27/60\n",
      "235/235 [==============================] - 1s 2ms/step - loss: 0.0437 - accuracy: 0.9859\n",
      "Epoch 28/60\n",
      "235/235 [==============================] - 1s 2ms/step - loss: 0.0146 - accuracy: 0.9964\n",
      "Epoch 29/60\n",
      "235/235 [==============================] - 1s 3ms/step - loss: 0.0047 - accuracy: 0.9995\n",
      "Epoch 30/60\n",
      "235/235 [==============================] - 1s 3ms/step - loss: 0.0023 - accuracy: 1.0000\n",
      "Epoch 31/60\n",
      "235/235 [==============================] - 1s 3ms/step - loss: 0.0018 - accuracy: 1.0000\n",
      "Epoch 32/60\n",
      "235/235 [==============================] - 1s 2ms/step - loss: 0.0014 - accuracy: 1.0000\n",
      "Epoch 33/60\n",
      "235/235 [==============================] - 1s 2ms/step - loss: 0.0011 - accuracy: 1.0000\n",
      "Epoch 34/60\n",
      "235/235 [==============================] - 1s 2ms/step - loss: 9.8137e-04 - accuracy: 1.0000\n",
      "Epoch 35/60\n",
      "235/235 [==============================] - 1s 2ms/step - loss: 8.2527e-04 - accuracy: 1.0000\n",
      "Epoch 36/60\n",
      "235/235 [==============================] - 1s 2ms/step - loss: 7.0565e-04 - accuracy: 1.0000\n",
      "Epoch 37/60\n",
      "235/235 [==============================] - 1s 2ms/step - loss: 6.3608e-04 - accuracy: 1.0000\n",
      "Epoch 38/60\n",
      "235/235 [==============================] - 1s 3ms/step - loss: 5.3912e-04 - accuracy: 1.0000\n",
      "Epoch 39/60\n",
      "235/235 [==============================] - 1s 2ms/step - loss: 4.8268e-04 - accuracy: 1.0000\n",
      "Epoch 40/60\n",
      "235/235 [==============================] - 1s 2ms/step - loss: 4.2990e-04 - accuracy: 1.0000\n",
      "Epoch 41/60\n",
      "235/235 [==============================] - 1s 2ms/step - loss: 3.7121e-04 - accuracy: 1.0000\n",
      "Epoch 42/60\n",
      "235/235 [==============================] - 1s 2ms/step - loss: 3.3018e-04 - accuracy: 1.0000\n",
      "Epoch 43/60\n",
      "235/235 [==============================] - 1s 2ms/step - loss: 3.0160e-04 - accuracy: 1.0000\n",
      "Epoch 44/60\n",
      "235/235 [==============================] - 1s 2ms/step - loss: 2.4548e-04 - accuracy: 1.0000\n",
      "Epoch 45/60\n",
      "235/235 [==============================] - 1s 2ms/step - loss: 2.2259e-04 - accuracy: 1.0000\n",
      "Epoch 46/60\n",
      "235/235 [==============================] - 1s 2ms/step - loss: 1.9644e-04 - accuracy: 1.0000\n",
      "Epoch 47/60\n",
      "235/235 [==============================] - 1s 2ms/step - loss: 1.7118e-04 - accuracy: 1.0000\n",
      "Epoch 48/60\n",
      "235/235 [==============================] - 1s 2ms/step - loss: 1.5273e-04 - accuracy: 1.0000\n",
      "Epoch 49/60\n",
      "235/235 [==============================] - 1s 2ms/step - loss: 1.2591e-04 - accuracy: 1.0000\n",
      "Epoch 50/60\n",
      "235/235 [==============================] - 1s 2ms/step - loss: 1.1852e-04 - accuracy: 1.0000\n",
      "Epoch 51/60\n",
      "235/235 [==============================] - 1s 2ms/step - loss: 9.7894e-05 - accuracy: 1.0000\n",
      "Epoch 52/60\n",
      "235/235 [==============================] - 1s 2ms/step - loss: 9.0178e-05 - accuracy: 1.0000\n",
      "Epoch 53/60\n",
      "235/235 [==============================] - 1s 2ms/step - loss: 8.7893e-05 - accuracy: 1.0000\n",
      "Epoch 54/60\n",
      "235/235 [==============================] - 1s 2ms/step - loss: 6.9085e-05 - accuracy: 1.0000\n",
      "Epoch 55/60\n",
      "235/235 [==============================] - 1s 2ms/step - loss: 5.7568e-05 - accuracy: 1.0000\n",
      "Epoch 56/60\n",
      "235/235 [==============================] - 1s 2ms/step - loss: 4.7990e-05 - accuracy: 1.0000\n",
      "Epoch 57/60\n",
      "235/235 [==============================] - 1s 2ms/step - loss: 4.1634e-05 - accuracy: 1.0000\n",
      "Epoch 58/60\n",
      "235/235 [==============================] - 1s 2ms/step - loss: 4.0325e-05 - accuracy: 1.0000\n",
      "Epoch 59/60\n",
      "235/235 [==============================] - 1s 2ms/step - loss: 3.4988e-05 - accuracy: 1.0000\n",
      "Epoch 60/60\n",
      "235/235 [==============================] - 1s 3ms/step - loss: 2.9363e-05 - accuracy: 1.0000\n"
     ]
    },
    {
     "data": {
      "text/plain": [
       "<tensorflow.python.keras.callbacks.History at 0x7ff39c5350d0>"
      ]
     },
     "execution_count": 10,
     "metadata": {},
     "output_type": "execute_result"
    }
   ],
   "source": [
    "# model을 학습시키는 코드를 직접 작성해 보세요.\n",
    "# Hint! model.compile()과 model.fit()을 사용해 봅시다.\n",
    "model.compile(optimizer='adam',\n",
    "             loss='sparse_categorical_crossentropy',\n",
    "             metrics=['accuracy'])\n",
    "\n",
    "model.fit(x_train_norm, y_train, epochs=60)"
   ]
  },
  {
   "cell_type": "markdown",
   "metadata": {},
   "source": [
    "### 테스트 하기 "
   ]
  },
  {
   "cell_type": "code",
   "execution_count": 12,
   "metadata": {},
   "outputs": [
    {
     "name": "stdout",
     "output_type": "stream",
     "text": [
      "학습데이터(x_test)의 이미지 개수는 600 입니다.\n",
      "x_test shape: (600, 28, 28, 3)\n",
      "x_test_norm shape: (600, 28, 28, 3)\n",
      "y_test shape: (600,)\n"
     ]
    }
   ],
   "source": [
    "# x_test, y_test를 만드는 방법은 x_train, y_train을 만드는 방법과 아주 유사합니다.\n",
    "\n",
    "def load_data(img_path):\n",
    "    # 가위 : 0, 바위 : 1, 보 : 2\n",
    "    number_of_data=600   # 가위바위보 이미지 개수 총합에 주의하세요.\n",
    "    img_size=28\n",
    "    color=3\n",
    "    #이미지 데이터와 라벨(가위 : 0, 바위 : 1, 보 : 2) 데이터를 담을 행렬(matrix) 영역을 생성합니다.\n",
    "    imgs=np.zeros(number_of_data*img_size*img_size*color,dtype=np.int32).reshape(number_of_data,img_size,img_size,color)\n",
    "    labels=np.zeros(number_of_data,dtype=np.int32)\n",
    "\n",
    "    idx=0\n",
    "    for file in glob.iglob(img_path+'/scissor/*.jpg'):\n",
    "        img = np.array(Image.open(file),dtype=np.int32)\n",
    "        imgs[idx,:,:,:]=img    # 데이터 영역에 이미지 행렬을 복사\n",
    "        labels[idx]=0   # 가위 : 0\n",
    "        idx=idx+1\n",
    "\n",
    "    for file in glob.iglob(img_path+'/rock/*.jpg'):\n",
    "        img = np.array(Image.open(file),dtype=np.int32)\n",
    "        imgs[idx,:,:,:]=img    # 데이터 영역에 이미지 행렬을 복사\n",
    "        labels[idx]=1   # 바위 : 1\n",
    "        idx=idx+1       \n",
    "    \n",
    "    for file in glob.iglob(img_path+'/paper/*.jpg'):\n",
    "        img = np.array(Image.open(file),dtype=np.int32)\n",
    "        imgs[idx,:,:,:]=img    # 데이터 영역에 이미지 행렬을 복사\n",
    "        labels[idx]=2   # 보 : 2\n",
    "        idx=idx+1\n",
    "        \n",
    "    print(\"학습데이터(x_test)의 이미지 개수는\",idx,\"입니다.\")\n",
    "    return imgs, labels\n",
    "\n",
    "image_dir_path = os.getenv(\"HOME\") + \"/Project/test_rock_scissor_paper\"\n",
    "(x_test, y_test)=load_data(image_dir_path)\n",
    "x_test_norm = x_test/217.0   # 입력은 0~1 사이의 값으로 정규화\n",
    "\n",
    "print(\"x_test shape: {}\".format(x_test.shape))\n",
    "print(\"x_test_norm shape: {}\".format(x_test_norm.shape))\n",
    "print(\"y_test shape: {}\".format(y_test.shape))\n"
   ]
  },
  {
   "cell_type": "markdown",
   "metadata": {},
   "source": [
    "### 테스트 데이터로 성능 확인\n",
    "\n",
    "- 학습용 데이터 x_train 을 가지고 구한 정확도 와 y_test 데이터와의 차이"
   ]
  },
  {
   "cell_type": "code",
   "execution_count": 13,
   "metadata": {},
   "outputs": [
    {
     "name": "stdout",
     "output_type": "stream",
     "text": [
      "19/19 - 0s - loss: 0.7816 - accuracy: 0.9083\n",
      "test_loss: 0.7815627455711365 \n",
      "test_accuracy: 0.9083333611488342\n"
     ]
    }
   ],
   "source": [
    "# model을 학습시키는 코드를 직접 작성해 보세요.\n",
    "# Hint! model.evaluate()을 사용해 봅시다.\n",
    "test_loss, test_accuracy = model.evaluate(x_test_norm,y_test, verbose=2)\n",
    "print(\"test_loss: {} \".format(test_loss))\n",
    "print(\"test_accuracy: {}\".format(test_accuracy))"
   ]
  },
  {
   "cell_type": "markdown",
   "metadata": {},
   "source": [
    "### 분석 목표 및 고찰 "
   ]
  },
  {
   "cell_type": "markdown",
   "metadata": {},
   "source": [
    "1. MNIST 같이 학습용으로 잘 정제된 데이터셋과 달리 직접 만들어 쓰는 이미지 데이터 셋에 접근하는 방법 \n",
    "2. 흑백과 컬러 이미지의 네트워크 모델링 차이  \n",
    "3. 데이터량의 증가로 개선되는 정확도 \n",
    "\n",
    "---\n",
    "\n",
    "- 총 3백장의 가위, 바위, 보 train 데이터셋으로 학습시 정확도는 100에 가까웠다. \n",
    "- 300장의 test데이터 셋으로 학습정확도를 정검한 결과 31% 정확도를 보였다. \n",
    "- 우선 살펴본 test 데이터 셋과 train 데이터 셋의 이미지 상태는 찍힌 배경과 상황에 따라 시각적으로 판단하기에도 매우 달랐고 특히 배경에 여러 물체가 같이 찍힌 이미지는 분류과정에서 오류나는 경우가 많았다. \n",
    "- 정확도를 개선하기 위해 좀 더 다양한 시점과 배경, 다른 상황에서 찍힌 가위, 바위, 보 데이터 셋을 총 7500장을 모았고 이를 분류한 결과는 90% 넘는 정확도를 보였다. \n",
    "- 단지 데이터셋을 늘렸을 뿐인데 이렇게 다른 결과를 보인 점이 흥미로웠고 데이터셋의 중요도를 인지할 수 있었다. \n",
    "\n"
   ]
  },
  {
   "cell_type": "code",
   "execution_count": null,
   "metadata": {},
   "outputs": [],
   "source": []
  }
 ],
 "metadata": {
  "kernelspec": {
   "display_name": "Python 3",
   "language": "python",
   "name": "python3"
  },
  "language_info": {
   "codemirror_mode": {
    "name": "ipython",
    "version": 3
   },
   "file_extension": ".py",
   "mimetype": "text/x-python",
   "name": "python",
   "nbconvert_exporter": "python",
   "pygments_lexer": "ipython3",
   "version": "3.7.6"
  }
 },
 "nbformat": 4,
 "nbformat_minor": 4
}
